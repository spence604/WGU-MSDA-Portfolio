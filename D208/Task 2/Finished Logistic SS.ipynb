{
 "cells": [
  {
   "cell_type": "markdown",
   "id": "326a29ee-8739-4506-916f-cda21d07734e",
   "metadata": {},
   "source": [
    "## Standard imports\n",
    "### Some may not be needed, but it's best to overprepare now"
   ]
  },
  {
   "cell_type": "code",
   "execution_count": null,
   "id": "f525641b-1b31-4676-9e11-c81519c075c8",
   "metadata": {},
   "outputs": [],
   "source": [
    "import numpy as np\n",
    "import pandas as pd\n",
    "from pandas import Series, DataFrame\n",
    "\n",
    "import seaborn as sns\n",
    "import matplotlib.pyplot as plt\n",
    "%matplotlib inline\n",
    "\n",
    "import pylab\n",
    "from pylab import rcParams\n",
    "import statsmodels.api as sm\n",
    "import statistics\n",
    "from scipy import stats\n",
    "\n",
    "import sklearn\n",
    "from sklearn import preprocessing\n",
    "from sklearn.linear_model import LinearRegression\n",
    "from sklearn.model_selection import train_test_split\n",
    "from sklearn import metrics\n",
    "from sklearn.metrics import classification_report\n",
    "\n",
    "\n",
    "from scipy.stats import chisquare\n",
    "from scipy.stats import chi2_contingency\n",
    "\n",
    "import warnings\n",
    "warnings.filterwarnings('ignore')\n"
   ]
  },
  {
   "cell_type": "markdown",
   "id": "81203ff0-7872-498c-9ae0-fbf083819355",
   "metadata": {},
   "source": [
    "## Data Understanding (wrangling, rename, etc)"
   ]
  },
  {
   "cell_type": "code",
   "execution_count": null,
   "id": "99f82655-6f7e-4c0f-97af-2b6b2028087e",
   "metadata": {},
   "outputs": [],
   "source": [
    "# Load data set into Pandas dataframe\n",
    "df = pd.read_csv('/Users/Spence604/Library/CloudStorage/OneDrive-WesternGovernorsUniversity/Docs/Med Data/medical_clean.csv')\n",
    "\n",
    "# Rename last 8 survey columns for better description of variables\n",
    "df.rename(columns = {'Item1':'Timely Admission', \n",
    "                    'Item2':'Timely Treatment', \n",
    "                     'Item3':'Timely Visits', \n",
    "                     'Item4':'Reliability', \n",
    "                     'Item5':'Options', \n",
    "                     'Item6':'Hours of Treatment', \n",
    "                     'Item7':'Courteous Staff', \n",
    "                     'Item8':'Doc_listen'}, \n",
    "          inplace=True)"
   ]
  },
  {
   "cell_type": "code",
   "execution_count": null,
   "id": "db0d1a06-4bc6-4339-9eb2-94043b008585",
   "metadata": {},
   "outputs": [],
   "source": [
    "df.head()"
   ]
  },
  {
   "cell_type": "code",
   "execution_count": null,
   "id": "0c28abd7-3247-4d7f-a521-39b8f4439150",
   "metadata": {},
   "outputs": [],
   "source": [
    "df.info()"
   ]
  },
  {
   "cell_type": "code",
   "execution_count": null,
   "id": "afd21141-7b92-47c0-afd4-69c8c8b59aa0",
   "metadata": {},
   "outputs": [],
   "source": [
    "df.describe()"
   ]
  },
  {
   "cell_type": "code",
   "execution_count": null,
   "id": "46d94759-9766-4ba2-bacf-6e5144b06693",
   "metadata": {},
   "outputs": [],
   "source": [
    "df.columns"
   ]
  },
  {
   "cell_type": "code",
   "execution_count": null,
   "id": "409eaa97-d2f3-4fb4-8d62-eda267b26568",
   "metadata": {},
   "outputs": [],
   "source": [
    "## Theses variables aren't of value\n",
    "df = df.drop(columns=['CaseOrder', 'Customer_id', 'Interaction', 'UID', 'City', \n",
    "                            'State', 'County', 'Zip', 'Lat', 'Lng', 'Population', \n",
    "                            'Area', 'TimeZone', 'Job', 'Marital', 'Timely Visits', 'Timely Admission',\n",
    "       'Timely Treatment', 'Timely Visits', 'Reliability', 'Options',\n",
    "       'Hours of Treatment', 'Courteous Staff'])\n",
    "df.describe()\n"
   ]
  },
  {
   "cell_type": "code",
   "execution_count": null,
   "id": "bb05944f-56fa-468b-99f4-5ab26089860d",
   "metadata": {},
   "outputs": [],
   "source": [
    "df = df[['Income','Children','Age','Full_meals_eaten','Initial_days','Doc_listen', 'Overweight', 'Diabetes','HighBlood','Gender', 'Asthma','Soft_drink']]"
   ]
  },
  {
   "cell_type": "code",
   "execution_count": null,
   "id": "25e67be8-d041-4439-b672-3334450bdf43",
   "metadata": {},
   "outputs": [],
   "source": [
    "df.columns"
   ]
  },
  {
   "cell_type": "code",
   "execution_count": null,
   "id": "2d67a813-6450-481d-8104-1193960054e6",
   "metadata": {},
   "outputs": [],
   "source": [
    "df.describe()"
   ]
  },
  {
   "cell_type": "code",
   "execution_count": null,
   "id": "7e3c32f0-dc2d-40cc-a836-32ab78bd4737",
   "metadata": {},
   "outputs": [],
   "source": [
    "Nulls = df.isnull().sum()\n",
    "print(Nulls)\n"
   ]
  },
  {
   "cell_type": "code",
   "execution_count": null,
   "id": "f6251413-2a98-4f1b-90f6-409592b7fc1f",
   "metadata": {},
   "outputs": [],
   "source": [
    "df.columns"
   ]
  },
  {
   "cell_type": "code",
   "execution_count": null,
   "id": "f67073b5-0147-42de-bd08-a61f5e4f8689",
   "metadata": {},
   "outputs": [],
   "source": [
    "plt.figure(figsize = (5,5))\n",
    "sns.heatmap(df.corr())\n",
    "plt.show()\n"
   ]
  },
  {
   "cell_type": "code",
   "execution_count": null,
   "id": "35b1fe71-50ee-4bb8-a6c3-4cd0777939cd",
   "metadata": {},
   "outputs": [],
   "source": [
    "df.head()"
   ]
  },
  {
   "cell_type": "code",
   "execution_count": null,
   "id": "f105ff19-d025-4c0c-b046-a6d6ecacbe96",
   "metadata": {},
   "outputs": [],
   "source": [
    "df.replace({'No': 0, 'Yes': 1}, inplace=True)"
   ]
  },
  {
   "cell_type": "code",
   "execution_count": null,
   "id": "5d2ef307-4d30-4d54-b51a-efe648ea47bc",
   "metadata": {},
   "outputs": [],
   "source": [
    "df.describe()"
   ]
  },
  {
   "cell_type": "code",
   "execution_count": null,
   "id": "a128f612-d77c-4cce-ad24-794485d6087a",
   "metadata": {},
   "outputs": [],
   "source": [
    "df.head()"
   ]
  },
  {
   "cell_type": "code",
   "execution_count": null,
   "id": "6e01be91-ecee-40c9-a9da-4944d9ae3086",
   "metadata": {},
   "outputs": [],
   "source": [
    "df.replace({'Female': 1, 'Male': 0}, inplace=True)\n",
    "df.replace({'Nonbinary': 0}, inplace=True)"
   ]
  },
  {
   "cell_type": "code",
   "execution_count": null,
   "id": "b4413ad7-780b-43f9-9af9-e470bc600e50",
   "metadata": {},
   "outputs": [],
   "source": [
    "df.columns"
   ]
  },
  {
   "cell_type": "code",
   "execution_count": null,
   "id": "7c1e3c07-1a30-46b5-8428-6a60be07e6b5",
   "metadata": {},
   "outputs": [],
   "source": [
    "# Create histograms of contiuous variables\n",
    "df[['Income', 'Children', 'Age', 'Full_meals_eaten', 'Initial_days',\n",
    "       'Evidence of active listening from doctor', 'Overweight', 'Diabetes', 'HighBlood',\n",
    "       'Gender', 'Asthma', 'Soft_drink']].hist()\n",
    "plt.savefig('pyplot.jpg')\n",
    "plt.tight_layout()\n"
   ]
  },
  {
   "cell_type": "code",
   "execution_count": null,
   "id": "9cb9866d-f323-4369-88fb-5147eda17592",
   "metadata": {},
   "outputs": [],
   "source": [
    "# list to iterate through\n",
    "tst = ['Income', 'Children', 'Age', 'Full_meals_eaten',\n",
    "       'Doc_listen', 'Diabetes', 'HighBlood',\n",
    "       'Gender', 'Asthma', 'Soft_drink']\n",
    "for i in tst:\n",
    " df[['Overweight', i]].value_counts().plot(kind='barh')\n",
    " plt.savefig('barh%s.jpg' % (i))\n",
    " plt.close()\n",
    "print('scatterplots done')"
   ]
  },
  {
   "cell_type": "code",
   "execution_count": null,
   "id": "488347a0-6fe6-4692-867f-72af1e28b593",
   "metadata": {},
   "outputs": [],
   "source": [
    "df.head()"
   ]
  },
  {
   "cell_type": "code",
   "execution_count": null,
   "id": "dad9f9e1-53a1-4fa3-9d66-1b76b8130cf7",
   "metadata": {},
   "outputs": [],
   "source": [
    "sns.boxplot('Initial_days', data = df)\n",
    "plt.show()\n"
   ]
  },
  {
   "cell_type": "code",
   "execution_count": 100,
   "id": "cc37992c-4fde-4fbb-8fdc-a0266ee60a08",
   "metadata": {},
   "outputs": [
    {
     "name": "stdout",
     "output_type": "stream",
     "text": [
      "Optimization terminated successfully.\n",
      "         Current function value: 0.601765\n",
      "         Iterations 5\n",
      "                           Logit Regression Results                           \n",
      "==============================================================================\n",
      "Dep. Variable:             Overweight   No. Observations:                10000\n",
      "Model:                          Logit   Df Residuals:                     9988\n",
      "Method:                           MLE   Df Model:                           11\n",
      "Date:                Tue, 29 Nov 2022   Pseudo R-squ.:                0.001532\n",
      "Time:                        00:19:12   Log-Likelihood:                -6017.6\n",
      "converged:                       True   LL-Null:                       -6026.9\n",
      "Covariance Type:            nonrobust   LLR p-value:                   0.07143\n",
      "====================================================================================\n",
      "                       coef    std err          z      P>|z|      [0.025      0.975]\n",
      "------------------------------------------------------------------------------------\n",
      "Intercept            0.9541      0.116      8.250      0.000       0.727       1.181\n",
      "Doc_listen           0.0195      0.021      0.921      0.357      -0.022       0.061\n",
      "Income           -1.475e-06   7.64e-07     -1.929      0.054   -2.97e-06    2.35e-08\n",
      "Children            -0.0129      0.010     -1.279      0.201      -0.033       0.007\n",
      "Age                 -0.0009      0.001     -0.843      0.399      -0.003       0.001\n",
      "Full_meals_eaten    -0.0192      0.022     -0.879      0.379      -0.062       0.024\n",
      "Initial_days        -0.0009      0.001     -1.059      0.290      -0.003       0.001\n",
      "Diabetes            -0.0358      0.049     -0.727      0.467      -0.132       0.061\n",
      "HighBlood            0.1180      0.045      2.618      0.009       0.030       0.206\n",
      "Gender               0.0075      0.044      0.170      0.865      -0.079       0.094\n",
      "Asthma               0.0691      0.049      1.411      0.158      -0.027       0.165\n",
      "Soft_drink          -0.0218      0.050     -0.433      0.665      -0.120       0.077\n",
      "====================================================================================\n"
     ]
    }
   ],
   "source": [
    "import statsmodels.formula.api as smf\n",
    "test = smf.logit(formula = \"Overweight ~ Doc_listen + Income + Children + Age + Full_meals_eaten + Initial_days + Diabetes + HighBlood + Gender + Asthma + Soft_drink \", data=df).fit()\n",
    "\n",
    "print(test.summary())"
   ]
  },
  {
   "cell_type": "code",
   "execution_count": 102,
   "id": "150fc642-0871-45fd-993d-864f0fba231c",
   "metadata": {},
   "outputs": [
    {
     "name": "stdout",
     "output_type": "stream",
     "text": [
      "Optimization terminated successfully.\n",
      "         Current function value: 0.602169\n",
      "         Iterations 5\n",
      "                           Logit Regression Results                           \n",
      "==============================================================================\n",
      "Dep. Variable:             Overweight   No. Observations:                10000\n",
      "Model:                          Logit   Df Residuals:                     9997\n",
      "Method:                           MLE   Df Model:                            2\n",
      "Date:                Tue, 29 Nov 2022   Pseudo R-squ.:               0.0008614\n",
      "Time:                        00:19:45   Log-Likelihood:                -6021.7\n",
      "converged:                       True   LL-Null:                       -6026.9\n",
      "Covariance Type:            nonrobust   LLR p-value:                  0.005562\n",
      "==============================================================================\n",
      "                 coef    std err          z      P>|z|      [0.025      0.975]\n",
      "------------------------------------------------------------------------------\n",
      "Intercept      0.9032      0.042     21.375      0.000       0.820       0.986\n",
      "Income      -1.43e-06   7.64e-07     -1.872      0.061   -2.93e-06     6.7e-08\n",
      "HighBlood      0.1180      0.045      2.620      0.009       0.030       0.206\n",
      "==============================================================================\n"
     ]
    }
   ],
   "source": [
    "import statsmodels.formula.api as smf\n",
    "test2 = smf.logit(formula = \"Overweight ~ Income + HighBlood\", data=df).fit()\n",
    "\n",
    "print(test2.summary())"
   ]
  },
  {
   "cell_type": "code",
   "execution_count": null,
   "id": "9dbeca3e-feef-4e4a-beac-4cf8571c1113",
   "metadata": {},
   "outputs": [],
   "source": []
  },
  {
   "cell_type": "code",
   "execution_count": null,
   "id": "9bf00539-5347-43c8-b175-3c1094c8f9d9",
   "metadata": {},
   "outputs": [],
   "source": [
    "df"
   ]
  },
  {
   "cell_type": "code",
   "execution_count": null,
   "id": "da9a0492-37bd-4a19-a8bf-0fe91fffcfd1",
   "metadata": {},
   "outputs": [],
   "source": [
    "df['intercept'] = 1\n",
    "df = pd.get_dummies(df, drop_first=True)\n",
    "\n",
    "logit = sm.Logit(df['Overweight'], df[['Income', 'Children', 'Age', 'Full_meals_eaten', 'Initial_days',\n",
    "       'Doc_listen','Diabetes', 'HighBlood', 'Gender', 'Asthma',\n",
    "       'Soft_drink']]).fit()\n",
    "print(logit.summary())\n"
   ]
  },
  {
   "cell_type": "code",
   "execution_count": null,
   "id": "325bfac4-c886-435f-ae8f-a49ef0f1c51a",
   "metadata": {},
   "outputs": [],
   "source": [
    "from statsmodels.api import add_constant\n",
    "Y = df['Overweight']\n",
    "X = df[['Income', 'Children', 'Age', 'Full_meals_eaten', 'Initial_days',\n",
    "       'Doc_listen','Diabetes', 'HighBlood', 'Gender', 'Asthma',\n",
    "       'Soft_drink']]\n",
    "X = add_constant(X)\n",
    "result = sm.Logit( Y, X ).fit()\n",
    "result.summary()"
   ]
  },
  {
   "cell_type": "code",
   "execution_count": null,
   "id": "513c888b-1954-4683-a848-d60a9e85569e",
   "metadata": {},
   "outputs": [],
   "source": [
    "Y = df['Overweight']\n",
    "X = df[['Income', 'HighBlood', 'Asthma', 'Children', 'Initial_days']]\n",
    "X = add_constant(X)\n",
    "result = sm.Logit( Y, X ).fit()\n",
    "result.summary()"
   ]
  },
  {
   "cell_type": "code",
   "execution_count": null,
   "id": "65fdbc2b-33fb-4ca2-ac1d-ea0c8fa001c4",
   "metadata": {},
   "outputs": [],
   "source": []
  }
 ],
 "metadata": {
  "kernelspec": {
   "display_name": "Python 3",
   "language": "python",
   "name": "python3"
  },
  "language_info": {
   "codemirror_mode": {
    "name": "ipython",
    "version": 3
   },
   "file_extension": ".py",
   "mimetype": "text/x-python",
   "name": "python",
   "nbconvert_exporter": "python",
   "pygments_lexer": "ipython3",
   "version": "3.8.8"
  }
 },
 "nbformat": 4,
 "nbformat_minor": 5
}
