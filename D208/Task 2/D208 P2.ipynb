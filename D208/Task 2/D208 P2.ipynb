{
 "cells": [
  {
   "cell_type": "markdown",
   "id": "1b0a20bf-2c29-4abf-91f0-3e290e9e2db6",
   "metadata": {},
   "source": [
    "### Standard Imports"
   ]
  },
  {
   "cell_type": "code",
   "execution_count": null,
   "id": "5442a73e-dea1-4857-9217-05f622419bfb",
   "metadata": {},
   "outputs": [],
   "source": [
    "import os\n",
    "os.environ['MPLCONFIGDIR'] = os.getcwd() + \"/configs/\"\n",
    "import pandas as pd\n",
    "import matplotlib.pyplot as plt\n",
    "import numpy as np\n",
    "import statsmodels.formula.api as smf\n",
    "from scipy import stats\n",
    "import seaborn as sns\n",
    "from sklearn.linear_model import LogisticRegression\n",
    "from sklearn.metrics import confusion_matrix\n",
    "from sklearn.model_selection import train_test_split\n",
    "from sklearn.metrics import classification_report\n",
    "from sklearn.metrics import accuracy_score\n",
    "import warnings\n",
    "warnings.filterwarnings(action='ignore')\n",
    "pd.options.mode.chained_assignment = None "
   ]
  },
  {
   "cell_type": "code",
   "execution_count": null,
   "id": "7cfe126b-2f0e-4163-8cb2-e7e1e880bab2",
   "metadata": {},
   "outputs": [],
   "source": [
    "# write csv into datafile and select columns to analyze\n",
    "df = pd.read_csv('/Users/Spence604/Library/CloudStorage/OneDrive-WesternGovernorsUniversity/Docs/medical_clean.csv')"
   ]
  },
  {
   "cell_type": "code",
   "execution_count": null,
   "id": "e1402268-cfbc-4b57-80b8-00a3c4b88796",
   "metadata": {},
   "outputs": [],
   "source": [
    "print(\"Are there any columns with null values: \" + str(df.isnull().all(axis=1).any()))"
   ]
  },
  {
   "cell_type": "code",
   "execution_count": null,
   "id": "4d994e4f-44d9-4693-ae97-6661342a2d29",
   "metadata": {},
   "outputs": [],
   "source": [
    "dupes = df.duplicated()\n",
    "print(\"Are there duplicates? \")\n",
    "print(dupes.value_counts())"
   ]
  },
  {
   "cell_type": "code",
   "execution_count": null,
   "id": "9330808c-ea97-4e4f-92ac-546fac6d06d9",
   "metadata": {},
   "outputs": [],
   "source": [
    "df = df[['Children', 'HighBlood','Age', 'Income', 'Gender', 'ReAdmis', \n",
    "         'VitD_levels', 'Doc_visits', 'Stroke', 'Initial_days','Additional_charges', 'Overweight','Anxiety']]\n",
    "print(df.loc[df.duplicated()])\n",
    "print(df.isnull().sum())"
   ]
  },
  {
   "cell_type": "code",
   "execution_count": null,
   "id": "4b345327-51ad-4adb-85fa-88f62decbc71",
   "metadata": {},
   "outputs": [],
   "source": [
    "# check for outliers and remove\n",
    "print(df.shape)\n",
    "df = df[(np.abs(stats.zscore(df.select_dtypes(include=np.number))) < 3).all(axis=1)]\n",
    "print(df.shape)"
   ]
  },
  {
   "cell_type": "code",
   "execution_count": null,
   "id": "d7445507-9023-4ac5-806f-a529ecf67250",
   "metadata": {},
   "outputs": [],
   "source": [
    "df.head()"
   ]
  },
  {
   "cell_type": "code",
   "execution_count": null,
   "id": "f6ee4256-9819-448c-9712-9df5fd96c906",
   "metadata": {},
   "outputs": [],
   "source": [
    "df['Anxiety'] = df['Anxiety'].map(\n",
    "                   {'Yes':1 ,'No':0})"
   ]
  },
  {
   "cell_type": "code",
   "execution_count": null,
   "id": "4efcf451-ee55-4b35-a4cb-d19d91efe382",
   "metadata": {},
   "outputs": [],
   "source": [
    "df['Overweight'] = df['Overweight'].map(\n",
    "                   {'Yes':1 ,'No':0})"
   ]
  },
  {
   "cell_type": "code",
   "execution_count": null,
   "id": "7c2d9832-13f3-40f4-8067-4538da66d4c0",
   "metadata": {},
   "outputs": [],
   "source": [
    "df['HighBlood'] = df['HighBlood'].map(\n",
    "                   {'Yes':1 ,'No':0})"
   ]
  },
  {
   "cell_type": "code",
   "execution_count": null,
   "id": "b1d3809c-23f1-4d1c-8cc5-1794ea8e5584",
   "metadata": {},
   "outputs": [],
   "source": [
    "df['Stroke'] = df['Stroke'].map(\n",
    "                   {'Yes':1 ,'No':0})"
   ]
  },
  {
   "cell_type": "code",
   "execution_count": null,
   "id": "eb22913f-a838-406c-89ac-19300e48b7ae",
   "metadata": {},
   "outputs": [],
   "source": [
    "df['ReAdmis'] = df['ReAdmis'].map(\n",
    "                   {'Yes':1 ,'No':0})"
   ]
  },
  {
   "cell_type": "code",
   "execution_count": null,
   "id": "bca5d9ec-2fe8-49a8-b528-9f9d2c5ee17f",
   "metadata": {},
   "outputs": [],
   "source": [
    "# determine how many Nonbinary values \n",
    "df['Gender'].value_counts()"
   ]
  },
  {
   "cell_type": "code",
   "execution_count": null,
   "id": "08433881-d98b-4818-8806-f3d4272ab220",
   "metadata": {},
   "outputs": [],
   "source": [
    "df['Gender'] = df['Gender'].map(\n",
    "                   {'Male':1 ,'Female':0 , 'Nonbinary':0})"
   ]
  },
  {
   "cell_type": "code",
   "execution_count": null,
   "id": "eb423143-ccad-4c0e-87a2-d108493f4814",
   "metadata": {},
   "outputs": [],
   "source": [
    "ax = plt.subplots(figsize=(16,16))\n",
    "ax = sns.heatmap(df.corr(), annot=True)\n",
    "plt.savefig('Final_heatmap.jpg')\n",
    "plt.close()"
   ]
  },
  {
   "cell_type": "code",
   "execution_count": null,
   "id": "67e351e2-297c-4ac7-aff8-f6d8f1ad2cd0",
   "metadata": {},
   "outputs": [],
   "source": [
    "df.hist(figsize = (16,16))\n",
    "plt.savefig('pyplot.jpg')\n",
    "plt.tight_layout()\n",
    "plt.close()\n",
    "print('Histogram done')"
   ]
  },
  {
   "cell_type": "code",
   "execution_count": null,
   "id": "2e89a1d3-f59a-448e-b920-2d188e68716b",
   "metadata": {},
   "outputs": [],
   "source": [
    "# list to iterate through\n",
    "testList = ['Children', 'HighBlood', 'Overweight', 'Age', 'Income', 'Gender', 'ReAdmis', 'VitD_levels', 'Doc_visits', 'Stroke', 'Initial_days', 'Additional_charges', 'Anxiety']\n",
    "for i in testList:\n",
    " df[['Anxiety', i]].value_counts().plot(kind='barh')\n",
    " plt.savefig('barh%s.jpg' % (i))\n",
    " plt.close()\n",
    "print('scatterplots done')"
   ]
  },
  {
   "cell_type": "code",
   "execution_count": null,
   "id": "18e5c9ad-4f6d-407d-b686-6352899a9ecf",
   "metadata": {},
   "outputs": [],
   "source": [
    "df.head()"
   ]
  },
  {
   "cell_type": "code",
   "execution_count": null,
   "id": "4ede1120-0442-4bbe-9b3a-682b9333fab2",
   "metadata": {},
   "outputs": [],
   "source": [
    "test = smf.logit(\"Anxiety ~ Children + HighBlood + Age + Gender + Income + ReAdmis + VitD_levels + Doc_visits + Stroke + Overweight + Additional_charges + Initial_days\", data=df).fit()\n",
    "print(test.summary())"
   ]
  },
  {
   "cell_type": "code",
   "execution_count": null,
   "id": "42e4d15e-cffd-4c72-b2df-a709c5cc1848",
   "metadata": {},
   "outputs": [],
   "source": [
    "conf = test.conf_int()\n",
    "conf['OR'] = test.params # create odds ratio\n",
    "conf.columns = ['2.5%', '97.5%', 'OR']\n",
    "print(np.exp(conf))"
   ]
  },
  {
   "cell_type": "code",
   "execution_count": null,
   "id": "cc14b1d4-79ef-4e83-a7f1-2b4d4b976d15",
   "metadata": {},
   "outputs": [],
   "source": [
    "reduced = smf.logit('Anxiety ~ ReAdmis + Stroke + Initial_days + Overweight', data=df).fit()\n",
    "print(reduced.summary())"
   ]
  },
  {
   "cell_type": "markdown",
   "id": "f36dc13e-0f83-4166-b5b3-702b2ad39e3a",
   "metadata": {},
   "source": [
    "#### Output saved as jpg"
   ]
  },
  {
   "cell_type": "code",
   "execution_count": null,
   "id": "c7a8100f-d2da-4a53-b900-17742f2923eb",
   "metadata": {},
   "outputs": [],
   "source": [
    "## Plotting multiple plots same figure\n",
    "fig, (axL, axR) = plt.subplots(2, figsize=(15, 15))\n",
    "\n",
    "# Deviance Residuals\n",
    "sns.regplot(test.fittedvalues, test.resid_dev, ax= axL,\n",
    "            color=\"black\", scatter_kws={\"s\": 5},\n",
    "            line_kws={\"color\":\"b\", \"alpha\":1, \"lw\":2}, lowess=True)\n",
    "# Studentized Pearson Residuals\n",
    "sns.regplot(reduced.fittedvalues, reduced.resid_pearson, ax= axR,\n",
    "            color=\"black\", scatter_kws={\"s\": 5},\n",
    "            line_kws={\"color\":\"g\", \"alpha\":1, \"lw\":2}, lowess=True)\n",
    "plt.savefig('residual.jpg')\n",
    "plt.close()                                                                                                                "
   ]
  },
  {
   "cell_type": "code",
   "execution_count": null,
   "id": "a33e7c8d-1021-48b8-98a3-afceb3182a31",
   "metadata": {},
   "outputs": [],
   "source": [
    "df.to_csv('cleaned_med_SS.csv')"
   ]
  },
  {
   "cell_type": "code",
   "execution_count": null,
   "id": "7e3189e3-7e18-44b8-8d9f-6db5e572f518",
   "metadata": {},
   "outputs": [],
   "source": [
    "reduced_med_SS = df[['ReAdmis', 'Stroke',  'Initial_days' ,'Overweight']]\n",
    "reduced_med_SS.to_csv('reduced_cleaned_data.csv')"
   ]
  },
  {
   "cell_type": "code",
   "execution_count": null,
   "id": "72dd1bb8-b7ac-4f84-be7f-b8f133eb4b6e",
   "metadata": {},
   "outputs": [],
   "source": [
    "# bivariate heatmap\n",
    "ax = plt.subplots(figsize=(12,12))\n",
    "ax = sns.heatmap(reduced_med_SS.corr(), annot=True)\n",
    "plt.savefig('reduced_heat.jpg')\n",
    "plt.close()\n",
    "print('Reduced Heatmap Complete')"
   ]
  },
  {
   "cell_type": "code",
   "execution_count": null,
   "id": "314031d1-b4f0-400b-9671-b4f316e1793b",
   "metadata": {},
   "outputs": [],
   "source": [
    "# confusion matrix\n",
    "X = df.loc[:, df.columns != 'Anxiety']\n",
    "y = df.loc[:, df.columns == 'Anxiety']\n",
    "X_train, X_test, y_train, y_test = train_test_split(X, y, random_state=0)\n",
    "logreg = LogisticRegression()\n",
    "logreg.fit(X_train, y_train)\n",
    "y_pred = logreg.predict(X_test)"
   ]
  },
  {
   "cell_type": "code",
   "execution_count": null,
   "id": "804f230c-0fb1-43c2-a0ab-95219a354d90",
   "metadata": {},
   "outputs": [],
   "source": []
  },
  {
   "cell_type": "code",
   "execution_count": null,
   "id": "9a160e66-385f-4582-ab5c-7f902d7ae82b",
   "metadata": {},
   "outputs": [],
   "source": [
    "X_train, X_test, y_train, y_test = train_test_split(X, y, random_state=0)\n",
    "logreg = LogisticRegression()\n",
    "logreg.fit(X_train, y_train)\n",
    "y_pred = logreg.predict(X_test)\n",
    "y_pred = logreg.predict(X_test)\n",
    "print('Accuracy of logistic regression classifier on test set: {:.2f}'.format(logreg.score(X_test, y_test)))"
   ]
  },
  {
   "cell_type": "code",
   "execution_count": null,
   "id": "23ff3f5e-bfa5-4c5b-9be9-1df30f547826",
   "metadata": {},
   "outputs": [],
   "source": [
    "#accuracy of confusion matrix\n",
    "print('Accuracy: {:.2f}\\n'.format(accuracy_score(y_test, y_pred)))\n",
    "print('Classification Report\\n')\n",
    "print(classification_report(y_test, y_pred, target_names=['Class 1', 'Class 2']))"
   ]
  },
  {
   "cell_type": "code",
   "execution_count": null,
   "id": "e6d46dc4-b1ef-44af-bb5d-f443ddc9a1b7",
   "metadata": {},
   "outputs": [],
   "source": [
    "y_pred = logreg.predict(X_test)\n",
    "print('Accuracy of logistic regression classifier on test set: {:.2f}'.format(logreg.score(X_test, y_test)))\n"
   ]
  },
  {
   "cell_type": "code",
   "execution_count": null,
   "id": "aad0f476-f0fd-4216-8c22-ecf210c03fc3",
   "metadata": {},
   "outputs": [],
   "source": []
  },
  {
   "cell_type": "code",
   "execution_count": null,
   "id": "7bf22ba4-2a6c-465e-b681-fc4e8f64e1d9",
   "metadata": {},
   "outputs": [],
   "source": []
  }
 ],
 "metadata": {
  "kernelspec": {
   "display_name": "Python 3",
   "language": "python",
   "name": "python3"
  },
  "language_info": {
   "codemirror_mode": {
    "name": "ipython",
    "version": 3
   },
   "file_extension": ".py",
   "mimetype": "text/x-python",
   "name": "python",
   "nbconvert_exporter": "python",
   "pygments_lexer": "ipython3",
   "version": "3.8.8"
  }
 },
 "nbformat": 4,
 "nbformat_minor": 5
}
