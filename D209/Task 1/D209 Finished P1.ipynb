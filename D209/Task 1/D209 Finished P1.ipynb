{
 "cells": [
  {
   "cell_type": "code",
   "execution_count": null,
   "id": "16b7d22b-82ea-4e35-ae73-e39f68440030",
   "metadata": {},
   "outputs": [],
   "source": [
    "# Standard Data Science Imports\n",
    "import numpy as np\n",
    "import pandas as pd\n",
    "from pandas import DataFrame\n",
    "\n",
    "# Visualization libraries\n",
    "import seaborn as sns\n",
    "import matplotlib.pyplot as plt\n",
    "%matplotlib inline\n",
    "\n",
    "# Scikit-learn\n",
    "import sklearn\n",
    "from sklearn import datasets\n",
    "from sklearn.neighbors import KNeighborsClassifier\n",
    "from sklearn.model_selection import train_test_split\n",
    "from sklearn.model_selection import cross_val_score\n",
    "from sklearn.model_selection import GridSearchCV\n",
    "\n",
    "from sklearn import metrics\n",
    "from sklearn.metrics import accuracy_score\n",
    "from sklearn.metrics import classification_report\n",
    "from sklearn.metrics import confusion_matrix\n",
    "from sklearn.metrics import roc_auc_score\n",
    "\n",
    "from sklearn import preprocessing\n",
    "from sklearn.preprocessing import StandardScaler\n",
    "\n",
    "from sklearn.pipeline import Pipeline\n",
    "\n",
    "# Loading the data set into Pandas dataframe\n",
    "df = pd.read_csv('/Users/Spence604/Library/CloudStorage/OneDrive-WesternGovernorsUniversity/Docs/Churn Data/churn_clean.csv')"
   ]
  },
  {
   "cell_type": "code",
   "execution_count": null,
   "id": "23698052-e6fb-4571-8c82-0fbe0269d44e",
   "metadata": {},
   "outputs": [],
   "source": [
    "# Examining fist five records of dataset\n",
    "df.head()"
   ]
  },
  {
   "cell_type": "code",
   "execution_count": null,
   "id": "95821214-844a-40de-97fb-11b8e1ac71f3",
   "metadata": {},
   "outputs": [],
   "source": [
    "# Viewing DataFrame descriptive information\n",
    "df.info"
   ]
  },
  {
   "cell_type": "code",
   "execution_count": null,
   "id": "cd674e9f-6564-4d5c-a8fe-d083a0d47fa0",
   "metadata": {},
   "outputs": [],
   "source": [
    "# Getting an overview of descriptive stats\n",
    "df.describe()"
   ]
  },
  {
   "cell_type": "code",
   "execution_count": null,
   "id": "cf666f39-69a3-4317-948a-21ed98e97e2e",
   "metadata": {},
   "outputs": [],
   "source": []
  },
  {
   "cell_type": "code",
   "execution_count": null,
   "id": "0616c158-66dc-4293-96de-6f2bb626985b",
   "metadata": {},
   "outputs": [],
   "source": [
    "#dupe and null check\n",
    "\n",
    "Is_dups_bool = df.duplicated()\n",
    "print(\"Are there any duplicates? \" + str(Is_dups_bool.value_counts()))\n",
    "\n",
    "nan_values = df.isnull()\n",
    "nan_columns = nan_values.any()\n",
    "columns_with_nan = df.columns[nan_columns].tolist()\n",
    "print(columns_with_nan)"
   ]
  },
  {
   "cell_type": "code",
   "execution_count": null,
   "id": "5f2a8848-08a1-49d8-ab8d-27c5d7722753",
   "metadata": {},
   "outputs": [],
   "source": [
    "df['Techie'] = df['Techie'].map(\n",
    "                   {'Yes':1 ,'No':0})\n",
    "\n",
    "df['Tablet'] = df['Tablet'].map(\n",
    "                   {'Yes':1 ,'No':0})\n",
    "\n",
    "df['Gender'] = df['Gender'].map(\n",
    "                   {'Male':1 ,'Female':2 , 'Nonbinary': 0})\n"
   ]
  },
  {
   "cell_type": "code",
   "execution_count": null,
   "id": "9a84a179-5321-4f52-9f47-4d086853589e",
   "metadata": {},
   "outputs": [],
   "source": [
    "# subset the dataframe to relevant variables\n",
    "df = df[['Tenure','Age','Contacts','Income','Bandwidth_GB_Year', 'Yearly_equip_failure', 'Tablet', 'Gender', 'Techie']]"
   ]
  },
  {
   "cell_type": "code",
   "execution_count": null,
   "id": "c37f15e1-732b-48b7-8a45-446369e9e02f",
   "metadata": {},
   "outputs": [],
   "source": [
    "df.head()"
   ]
  },
  {
   "cell_type": "code",
   "execution_count": null,
   "id": "b5389f50-7b6c-4d36-be70-aff411ed9cea",
   "metadata": {},
   "outputs": [],
   "source": [
    "# export cleaned data to csv\n",
    "df.to_csv('D209 Assesment.csv')\n"
   ]
  },
  {
   "cell_type": "code",
   "execution_count": null,
   "id": "db12f0fb-dbd9-48e2-aa58-3941f36eec69",
   "metadata": {},
   "outputs": [],
   "source": []
  },
  {
   "cell_type": "code",
   "execution_count": null,
   "id": "8140231c-ff7e-4616-a82f-4a18e1f847e3",
   "metadata": {},
   "outputs": [],
   "source": []
  },
  {
   "cell_type": "markdown",
   "id": "85321bd1-db3b-490d-8ef0-d73674b9506a",
   "metadata": {},
   "source": [
    "# ANALYSIS"
   ]
  },
  {
   "cell_type": "code",
   "execution_count": null,
   "id": "c193d0c1-91ec-4b0a-ac44-ea6b23319ff8",
   "metadata": {},
   "outputs": [],
   "source": [
    "train, test = train_test_split(df, test_size=0.3, random_state=42)"
   ]
  },
  {
   "cell_type": "code",
   "execution_count": null,
   "id": "20ec6ea2-0872-4b53-bdee-37203fd2041d",
   "metadata": {},
   "outputs": [],
   "source": [
    "train.to_csv('Train Assesment.csv')"
   ]
  },
  {
   "cell_type": "code",
   "execution_count": null,
   "id": "ba75a49a-cdf2-4028-942c-ec867155c57c",
   "metadata": {},
   "outputs": [],
   "source": [
    "test.to_csv('Test Assement.csv')\n"
   ]
  },
  {
   "cell_type": "code",
   "execution_count": null,
   "id": "f5fa8021-9dc7-442e-b992-ae4270da0f2e",
   "metadata": {},
   "outputs": [],
   "source": [
    "# Feature Selection\n",
    "X = df.drop('Techie', axis=1).values\n",
    "y = df['Techie']\n",
    "\n",
    "# Data split\n",
    "X_train, X_test, y_train, y_test = train_test_split(X,y, test_size=.02, random_state=21)\n"
   ]
  },
  {
   "cell_type": "code",
   "execution_count": 38,
   "id": "3b2b83f5-e271-44c3-adfb-25c43d485a2f",
   "metadata": {},
   "outputs": [
    {
     "data": {
      "text/html": [
       "<style>#sk-container-id-4 {color: black;background-color: white;}#sk-container-id-4 pre{padding: 0;}#sk-container-id-4 div.sk-toggleable {background-color: white;}#sk-container-id-4 label.sk-toggleable__label {cursor: pointer;display: block;width: 100%;margin-bottom: 0;padding: 0.3em;box-sizing: border-box;text-align: center;}#sk-container-id-4 label.sk-toggleable__label-arrow:before {content: \"▸\";float: left;margin-right: 0.25em;color: #696969;}#sk-container-id-4 label.sk-toggleable__label-arrow:hover:before {color: black;}#sk-container-id-4 div.sk-estimator:hover label.sk-toggleable__label-arrow:before {color: black;}#sk-container-id-4 div.sk-toggleable__content {max-height: 0;max-width: 0;overflow: hidden;text-align: left;background-color: #f0f8ff;}#sk-container-id-4 div.sk-toggleable__content pre {margin: 0.2em;color: black;border-radius: 0.25em;background-color: #f0f8ff;}#sk-container-id-4 input.sk-toggleable__control:checked~div.sk-toggleable__content {max-height: 200px;max-width: 100%;overflow: auto;}#sk-container-id-4 input.sk-toggleable__control:checked~label.sk-toggleable__label-arrow:before {content: \"▾\";}#sk-container-id-4 div.sk-estimator input.sk-toggleable__control:checked~label.sk-toggleable__label {background-color: #d4ebff;}#sk-container-id-4 div.sk-label input.sk-toggleable__control:checked~label.sk-toggleable__label {background-color: #d4ebff;}#sk-container-id-4 input.sk-hidden--visually {border: 0;clip: rect(1px 1px 1px 1px);clip: rect(1px, 1px, 1px, 1px);height: 1px;margin: -1px;overflow: hidden;padding: 0;position: absolute;width: 1px;}#sk-container-id-4 div.sk-estimator {font-family: monospace;background-color: #f0f8ff;border: 1px dotted black;border-radius: 0.25em;box-sizing: border-box;margin-bottom: 0.5em;}#sk-container-id-4 div.sk-estimator:hover {background-color: #d4ebff;}#sk-container-id-4 div.sk-parallel-item::after {content: \"\";width: 100%;border-bottom: 1px solid gray;flex-grow: 1;}#sk-container-id-4 div.sk-label:hover label.sk-toggleable__label {background-color: #d4ebff;}#sk-container-id-4 div.sk-serial::before {content: \"\";position: absolute;border-left: 1px solid gray;box-sizing: border-box;top: 0;bottom: 0;left: 50%;z-index: 0;}#sk-container-id-4 div.sk-serial {display: flex;flex-direction: column;align-items: center;background-color: white;padding-right: 0.2em;padding-left: 0.2em;position: relative;}#sk-container-id-4 div.sk-item {position: relative;z-index: 1;}#sk-container-id-4 div.sk-parallel {display: flex;align-items: stretch;justify-content: center;background-color: white;position: relative;}#sk-container-id-4 div.sk-item::before, #sk-container-id-4 div.sk-parallel-item::before {content: \"\";position: absolute;border-left: 1px solid gray;box-sizing: border-box;top: 0;bottom: 0;left: 50%;z-index: -1;}#sk-container-id-4 div.sk-parallel-item {display: flex;flex-direction: column;z-index: 1;position: relative;background-color: white;}#sk-container-id-4 div.sk-parallel-item:first-child::after {align-self: flex-end;width: 50%;}#sk-container-id-4 div.sk-parallel-item:last-child::after {align-self: flex-start;width: 50%;}#sk-container-id-4 div.sk-parallel-item:only-child::after {width: 0;}#sk-container-id-4 div.sk-dashed-wrapped {border: 1px dashed gray;margin: 0 0.4em 0.5em 0.4em;box-sizing: border-box;padding-bottom: 0.4em;background-color: white;}#sk-container-id-4 div.sk-label label {font-family: monospace;font-weight: bold;display: inline-block;line-height: 1.2em;}#sk-container-id-4 div.sk-label-container {text-align: center;}#sk-container-id-4 div.sk-container {/* jupyter's `normalize.less` sets `[hidden] { display: none; }` but bootstrap.min.css set `[hidden] { display: none !important; }` so we also need the `!important` here to be able to override the default hidden behavior on the sphinx rendered scikit-learn.org. See: https://github.com/scikit-learn/scikit-learn/issues/21755 */display: inline-block !important;position: relative;}#sk-container-id-4 div.sk-text-repr-fallback {display: none;}</style><div id=\"sk-container-id-4\" class=\"sk-top-container\"><div class=\"sk-text-repr-fallback\"><pre>KNeighborsClassifier(n_neighbors=6)</pre><b>In a Jupyter environment, please rerun this cell to show the HTML representation or trust the notebook. <br />On GitHub, the HTML representation is unable to render, please try loading this page with nbviewer.org.</b></div><div class=\"sk-container\" hidden><div class=\"sk-item\"><div class=\"sk-estimator sk-toggleable\"><input class=\"sk-toggleable__control sk-hidden--visually\" id=\"sk-estimator-id-4\" type=\"checkbox\" checked><label for=\"sk-estimator-id-4\" class=\"sk-toggleable__label sk-toggleable__label-arrow\">KNeighborsClassifier</label><div class=\"sk-toggleable__content\"><pre>KNeighborsClassifier(n_neighbors=6)</pre></div></div></div></div></div>"
      ],
      "text/plain": [
       "KNeighborsClassifier(n_neighbors=6)"
      ]
     },
     "execution_count": 38,
     "metadata": {},
     "output_type": "execute_result"
    }
   ],
   "source": [
    "knn = KNeighborsClassifier(n_neighbors=6)\n",
    "knn.fit(X_train, y_train)\n"
   ]
  },
  {
   "cell_type": "code",
   "execution_count": 39,
   "id": "4775e08a-6592-4e9b-9ff2-39b3e6bfe6e7",
   "metadata": {},
   "outputs": [],
   "source": [
    "# Prediction\n",
    "y_pred = knn.predict(X_test)\n"
   ]
  },
  {
   "cell_type": "code",
   "execution_count": 40,
   "id": "e3fc55f0-d18d-4d1a-9ef6-69e6cb1de3c1",
   "metadata": {},
   "outputs": [
    {
     "data": {
      "text/plain": [
       "0.815"
      ]
     },
     "execution_count": 40,
     "metadata": {},
     "output_type": "execute_result"
    }
   ],
   "source": [
    "# Accuracy Score of the training set\n",
    "knn.score(X_test, y_test)"
   ]
  },
  {
   "cell_type": "code",
   "execution_count": 41,
   "id": "e11ae9c9-2df6-489e-9522-c5d286497bdc",
   "metadata": {},
   "outputs": [],
   "source": [
    "# Setup hyperparameters selection for the KNN\n",
    "neighbors = np.arange(1, 9)\n",
    "train_accuracy = np.empty(len(neighbors))\n",
    "test_accuracy = np.empty(len(neighbors))\n",
    "\n",
    "# Loop over different values of k\n",
    "for i, k in enumerate(neighbors):\n",
    "    # K-NN Classifier with k neighbors: knn\n",
    "    knn = KNeighborsClassifier(n_neighbors=k)\n",
    "\n",
    "    # Fit the classifier\n",
    "    knn.fit(X_train,y_train)\n",
    "    \n",
    "    #Compute accuracy on the training set\n",
    "    train_accuracy[i] = knn.score(X_train, y_train)\n",
    "\n",
    "    #Compute accuracy on the testing set\n",
    "    test_accuracy[i] = knn.score(X_test, y_test)"
   ]
  },
  {
   "cell_type": "code",
   "execution_count": 42,
   "id": "b1c33eb2-5372-4d30-a0e5-fdf23bba7e5e",
   "metadata": {},
   "outputs": [
    {
     "data": {
      "image/png": "[encoded data removed]",
      "text/plain": [
       "<Figure size 432x288 with 1 Axes>"
      ]
     },
     "metadata": {
      "needs_background": "light"
     },
     "output_type": "display_data"
    }
   ],
   "source": [
    "# Generate plot\n",
    "plt.title('k-NN: Varying Number of Neighbors')\n",
    "plt.plot(neighbors, test_accuracy, label = 'Testing Accuracy')\n",
    "plt.plot(neighbors, train_accuracy, label = 'Training Accuracy')\n",
    "plt.legend()\n",
    "plt.xlabel('Number of Neighbors')\n",
    "plt.ylabel('Accuracy')\n",
    "plt.show()"
   ]
  },
  {
   "cell_type": "code",
   "execution_count": 43,
   "id": "6a6bf01e-6e35-4823-81c9-8dd5be88719f",
   "metadata": {},
   "outputs": [
    {
     "name": "stdout",
     "output_type": "stream",
     "text": [
      "              precision    recall  f1-score   support\n",
      "\n",
      "           0       0.82      0.99      0.90       163\n",
      "           1       0.50      0.03      0.05        37\n",
      "\n",
      "    accuracy                           0.81       200\n",
      "   macro avg       0.66      0.51      0.47       200\n",
      "weighted avg       0.76      0.81      0.74       200\n",
      "\n"
     ]
    }
   ],
   "source": [
    "# Compute classification metrics after scaling\n",
    "from sklearn.metrics import classification_report\n",
    "print(classification_report(y_test, y_pred))\n"
   ]
  },
  {
   "cell_type": "code",
   "execution_count": 44,
   "id": "ceaf328f-a39b-42b5-adb3-6d27d1f99b69",
   "metadata": {},
   "outputs": [
    {
     "name": "stdout",
     "output_type": "stream",
     "text": [
      "[[162   1]\n",
      " [ 36   1]]\n"
     ]
    }
   ],
   "source": [
    "# Import sklearn confusion_matrix & generate results\n",
    "from sklearn.metrics import confusion_matrix\n",
    "matrix = confusion_matrix(y_test, y_pred)\n",
    "print(matrix)\n"
   ]
  },
  {
   "cell_type": "code",
   "execution_count": 45,
   "id": "d178e372-ebab-4364-8db6-3c205eca83cb",
   "metadata": {},
   "outputs": [
    {
     "data": {
      "image/png": "[encoded data removed]",
      "text/plain": [
       "<Figure size 432x288 with 2 Axes>"
      ]
     },
     "metadata": {
      "needs_background": "light"
     },
     "output_type": "display_data"
    }
   ],
   "source": [
    "ax1 = sns.heatmap(matrix)\n",
    "plt.show()"
   ]
  },
  {
   "cell_type": "code",
   "execution_count": 34,
   "id": "782fcbc3-8c5a-4aa1-915b-c945b7528c16",
   "metadata": {
    "tags": []
   },
   "outputs": [
    {
     "data": {
      "text/plain": [
       "0.81"
      ]
     },
     "execution_count": 34,
     "metadata": {},
     "output_type": "execute_result"
    }
   ],
   "source": [
    "# Re-insatiate the classifier with an ideal value of 4\n",
    "knn = KNeighborsClassifier(n_neighbors=4)\n",
    "knn.fit(X_train, y_train)\n",
    "\n",
    "# Prediction\n",
    "y_pred = knn.predict(X_test)\n",
    "\n",
    "# Accuracy Score\n",
    "knn.score(X_test, y_test)"
   ]
  },
  {
   "cell_type": "markdown",
   "id": "0723c1bb-abea-4f44-91c1-1173d588955c",
   "metadata": {},
   "source": [
    "# pt v"
   ]
  },
  {
   "cell_type": "code",
   "execution_count": null,
   "id": "c4a07b7a-bc99-43d3-9ca2-596432cfcb9c",
   "metadata": {},
   "outputs": [],
   "source": [
    "#1"
   ]
  },
  {
   "cell_type": "code",
   "execution_count": 46,
   "id": "e1797f7c-54c6-40d7-8907-acafa9174486",
   "metadata": {},
   "outputs": [
    {
     "name": "stdout",
     "output_type": "stream",
     "text": [
      "The Area under curve (AUC) is: 0.8106\n"
     ]
    }
   ],
   "source": [
    "# Import ROC AUC  \n",
    "from sklearn.metrics import roc_auc_score\n",
    "\n",
    "# Fit the data\n",
    "knn.fit(X, y)\n",
    "\n",
    "# Predicted probabilities\n",
    "y_predicted_probabilities = knn.predict_proba(X_test)[:,1]\n",
    "\n",
    "# AUC score\n",
    "print(\"The Area under curve (AUC) is: {:.4f}\".format(roc_auc_score(y_test, y_predicted_probabilities)))"
   ]
  },
  {
   "cell_type": "markdown",
   "id": "31ee098f-30ff-4ee4-8e2b-1de33dae79e8",
   "metadata": {},
   "source": [
    "Discuss the results and implications of your classification analysis.\n",
    "The AUC score informs us how well is our model at predicting the correct label for 'Churn’. The value is scaled from 0 to 1 being the most accurate. This KNN model has a score of '0.8753' which means the model is adequate at predicting the Churn rate but could perform better if further analysis is performed on the independent variables.\n",
    "\n",
    "Discuss one limitation of your data analysis.\n",
    "Starting with an arbitrary choice of k = 6 nearest neighbours will yield dramatically different results. As shown above that a consideration must be observed and a systematic approach of trial and test must be tried to increase the accuracy of the prediction. I have also noticed that limiting the number of the independent variable to a select few can improve the performance considerably and reduce the memory and computational load which could lead to slow performance.\n",
    "\n",
    "Recommend a course of action for the real-world organizational situation from part A1 based on your results and implications discussed in part E2.\n",
    "The predictor variables create a low accuracy score of ‘0.89’. The stakeholders need to further invest in market analysis to identify competitive services and the marketing team needs to come up with products and services that will create an eco-system for the customer which will decrease the churn rate.\n",
    "\n"
   ]
  },
  {
   "cell_type": "code",
   "execution_count": null,
   "id": "49a2d339-f4ef-4b0b-acfe-aca013a1257a",
   "metadata": {},
   "outputs": [],
   "source": [
    "print('Variable and DataType')\n",
    "types = pd.DataFrame(['numeric' if df[i].dtypes == (int or float) \n",
    "                      else 'categorical' for i in df.columns], df.columns, columns=['DataType'])\n",
    "types"
   ]
  },
  {
   "cell_type": "code",
   "execution_count": null,
   "id": "596c8eac-f033-44e8-b080-8c810e470a1d",
   "metadata": {},
   "outputs": [],
   "source": []
  }
 ],
 "metadata": {
  "kernelspec": {
   "display_name": "Python 3",
   "language": "python",
   "name": "python3"
  },
  "language_info": {
   "codemirror_mode": {
    "name": "ipython",
    "version": 3
   },
   "file_extension": ".py",
   "mimetype": "text/x-python",
   "name": "python",
   "nbconvert_exporter": "python",
   "pygments_lexer": "ipython3",
   "version": "3.8.8"
  }
 },
 "nbformat": 4,
 "nbformat_minor": 5
}
