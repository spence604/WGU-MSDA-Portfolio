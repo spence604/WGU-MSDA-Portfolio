{
 "cells": [
  {
   "cell_type": "code",
   "execution_count": 1,
   "id": "52e315ac-3c77-4161-b514-ad3668e0ab72",
   "metadata": {},
   "outputs": [],
   "source": [
    "import numpy as np\n",
    "import pandas as pd\n",
    "import matplotlib.pyplot as plt\n",
    "import scipy.stats as stats\n",
    "plt.style.use('ggplot')"
   ]
  },
  {
   "cell_type": "code",
   "execution_count": 2,
   "id": "2c3b7173-4b0b-403d-bbca-9d72d455fe6a",
   "metadata": {},
   "outputs": [],
   "source": [
    "df = pd.read_csv('/Users/blacktain/OneDrive - Western Governors University/d206/Junk/e9d8sm5uf8df75k650df/medical_raw_data.csv')\n",
    "pd.set_option('display.max_columns', 55)"
   ]
  },
  {
   "cell_type": "code",
   "execution_count": 3,
   "id": "3d084314-c5b0-48aa-9cc9-ddeffdaabb35",
   "metadata": {},
   "outputs": [
    {
     "data": {
      "text/html": [
       "<div>\n",
       "<style scoped>\n",
       "    .dataframe tbody tr th:only-of-type {\n",
       "        vertical-align: middle;\n",
       "    }\n",
       "\n",
       "    .dataframe tbody tr th {\n",
       "        vertical-align: top;\n",
       "    }\n",
       "\n",
       "    .dataframe thead th {\n",
       "        text-align: right;\n",
       "    }\n",
       "</style>\n",
       "<table border=\"1\" class=\"dataframe\">\n",
       "  <thead>\n",
       "    <tr style=\"text-align: right;\">\n",
       "      <th></th>\n",
       "      <th>Unnamed: 0</th>\n",
       "      <th>CaseOrder</th>\n",
       "      <th>Customer_id</th>\n",
       "      <th>Interaction</th>\n",
       "      <th>UID</th>\n",
       "      <th>City</th>\n",
       "      <th>State</th>\n",
       "      <th>County</th>\n",
       "      <th>Zip</th>\n",
       "      <th>Lat</th>\n",
       "      <th>Lng</th>\n",
       "      <th>Population</th>\n",
       "      <th>Area</th>\n",
       "      <th>Timezone</th>\n",
       "      <th>Job</th>\n",
       "      <th>Children</th>\n",
       "      <th>Age</th>\n",
       "      <th>Education</th>\n",
       "      <th>Employment</th>\n",
       "      <th>Income</th>\n",
       "      <th>Marital</th>\n",
       "      <th>Gender</th>\n",
       "      <th>ReAdmis</th>\n",
       "      <th>VitD_levels</th>\n",
       "      <th>Doc_visits</th>\n",
       "      <th>Full_meals_eaten</th>\n",
       "      <th>VitD_supp</th>\n",
       "      <th>Soft_drink</th>\n",
       "      <th>Initial_admin</th>\n",
       "      <th>HighBlood</th>\n",
       "      <th>Stroke</th>\n",
       "      <th>Complication_risk</th>\n",
       "      <th>Overweight</th>\n",
       "      <th>Arthritis</th>\n",
       "      <th>Diabetes</th>\n",
       "      <th>Hyperlipidemia</th>\n",
       "      <th>BackPain</th>\n",
       "      <th>Anxiety</th>\n",
       "      <th>Allergic_rhinitis</th>\n",
       "      <th>Reflux_esophagitis</th>\n",
       "      <th>Asthma</th>\n",
       "      <th>Services</th>\n",
       "      <th>Initial_days</th>\n",
       "      <th>TotalCharge</th>\n",
       "      <th>Additional_charges</th>\n",
       "      <th>Item1</th>\n",
       "      <th>Item2</th>\n",
       "      <th>Item3</th>\n",
       "      <th>Item4</th>\n",
       "      <th>Item5</th>\n",
       "      <th>Item6</th>\n",
       "      <th>Item7</th>\n",
       "      <th>Item8</th>\n",
       "    </tr>\n",
       "  </thead>\n",
       "  <tbody>\n",
       "    <tr>\n",
       "      <th>0</th>\n",
       "      <td>1</td>\n",
       "      <td>1</td>\n",
       "      <td>C412403</td>\n",
       "      <td>8cd49b13-f45a-4b47-a2bd-173ffa932c2f</td>\n",
       "      <td>3a83ddb66e2ae73798bdf1d705dc0932</td>\n",
       "      <td>Eva</td>\n",
       "      <td>AL</td>\n",
       "      <td>Morgan</td>\n",
       "      <td>35621</td>\n",
       "      <td>34.34960</td>\n",
       "      <td>-86.72508</td>\n",
       "      <td>2951</td>\n",
       "      <td>Suburban</td>\n",
       "      <td>America/Chicago</td>\n",
       "      <td>Psychologist, sport and exercise</td>\n",
       "      <td>1.0</td>\n",
       "      <td>53.0</td>\n",
       "      <td>Some College, Less than 1 Year</td>\n",
       "      <td>Full Time</td>\n",
       "      <td>86575.93</td>\n",
       "      <td>Divorced</td>\n",
       "      <td>Male</td>\n",
       "      <td>No</td>\n",
       "      <td>17.802330</td>\n",
       "      <td>6</td>\n",
       "      <td>0</td>\n",
       "      <td>0</td>\n",
       "      <td>NaN</td>\n",
       "      <td>Emergency Admission</td>\n",
       "      <td>Yes</td>\n",
       "      <td>No</td>\n",
       "      <td>Medium</td>\n",
       "      <td>0.0</td>\n",
       "      <td>Yes</td>\n",
       "      <td>Yes</td>\n",
       "      <td>No</td>\n",
       "      <td>Yes</td>\n",
       "      <td>1.0</td>\n",
       "      <td>Yes</td>\n",
       "      <td>No</td>\n",
       "      <td>Yes</td>\n",
       "      <td>Blood Work</td>\n",
       "      <td>10.585770</td>\n",
       "      <td>3191.048774</td>\n",
       "      <td>17939.403420</td>\n",
       "      <td>3</td>\n",
       "      <td>3</td>\n",
       "      <td>2</td>\n",
       "      <td>2</td>\n",
       "      <td>4</td>\n",
       "      <td>3</td>\n",
       "      <td>3</td>\n",
       "      <td>4</td>\n",
       "    </tr>\n",
       "    <tr>\n",
       "      <th>1</th>\n",
       "      <td>2</td>\n",
       "      <td>2</td>\n",
       "      <td>Z919181</td>\n",
       "      <td>d2450b70-0337-4406-bdbb-bc1037f1734c</td>\n",
       "      <td>176354c5eef714957d486009feabf195</td>\n",
       "      <td>Marianna</td>\n",
       "      <td>FL</td>\n",
       "      <td>Jackson</td>\n",
       "      <td>32446</td>\n",
       "      <td>30.84513</td>\n",
       "      <td>-85.22907</td>\n",
       "      <td>11303</td>\n",
       "      <td>Urban</td>\n",
       "      <td>America/Chicago</td>\n",
       "      <td>Community development worker</td>\n",
       "      <td>3.0</td>\n",
       "      <td>51.0</td>\n",
       "      <td>Some College, 1 or More Years, No Degree</td>\n",
       "      <td>Full Time</td>\n",
       "      <td>46805.99</td>\n",
       "      <td>Married</td>\n",
       "      <td>Female</td>\n",
       "      <td>No</td>\n",
       "      <td>18.994640</td>\n",
       "      <td>4</td>\n",
       "      <td>2</td>\n",
       "      <td>1</td>\n",
       "      <td>No</td>\n",
       "      <td>Emergency Admission</td>\n",
       "      <td>Yes</td>\n",
       "      <td>No</td>\n",
       "      <td>High</td>\n",
       "      <td>1.0</td>\n",
       "      <td>No</td>\n",
       "      <td>No</td>\n",
       "      <td>No</td>\n",
       "      <td>No</td>\n",
       "      <td>NaN</td>\n",
       "      <td>No</td>\n",
       "      <td>Yes</td>\n",
       "      <td>No</td>\n",
       "      <td>Intravenous</td>\n",
       "      <td>15.129562</td>\n",
       "      <td>4214.905346</td>\n",
       "      <td>17612.998120</td>\n",
       "      <td>3</td>\n",
       "      <td>4</td>\n",
       "      <td>3</td>\n",
       "      <td>4</td>\n",
       "      <td>4</td>\n",
       "      <td>4</td>\n",
       "      <td>3</td>\n",
       "      <td>3</td>\n",
       "    </tr>\n",
       "    <tr>\n",
       "      <th>2</th>\n",
       "      <td>3</td>\n",
       "      <td>3</td>\n",
       "      <td>F995323</td>\n",
       "      <td>a2057123-abf5-4a2c-abad-8ffe33512562</td>\n",
       "      <td>e19a0fa00aeda885b8a436757e889bc9</td>\n",
       "      <td>Sioux Falls</td>\n",
       "      <td>SD</td>\n",
       "      <td>Minnehaha</td>\n",
       "      <td>57110</td>\n",
       "      <td>43.54321</td>\n",
       "      <td>-96.63772</td>\n",
       "      <td>17125</td>\n",
       "      <td>Suburban</td>\n",
       "      <td>America/Chicago</td>\n",
       "      <td>Chief Executive Officer</td>\n",
       "      <td>3.0</td>\n",
       "      <td>53.0</td>\n",
       "      <td>Some College, 1 or More Years, No Degree</td>\n",
       "      <td>Retired</td>\n",
       "      <td>14370.14</td>\n",
       "      <td>Widowed</td>\n",
       "      <td>Female</td>\n",
       "      <td>No</td>\n",
       "      <td>17.415889</td>\n",
       "      <td>4</td>\n",
       "      <td>1</td>\n",
       "      <td>0</td>\n",
       "      <td>No</td>\n",
       "      <td>Elective Admission</td>\n",
       "      <td>Yes</td>\n",
       "      <td>No</td>\n",
       "      <td>Medium</td>\n",
       "      <td>1.0</td>\n",
       "      <td>No</td>\n",
       "      <td>Yes</td>\n",
       "      <td>No</td>\n",
       "      <td>No</td>\n",
       "      <td>NaN</td>\n",
       "      <td>No</td>\n",
       "      <td>No</td>\n",
       "      <td>No</td>\n",
       "      <td>Blood Work</td>\n",
       "      <td>4.772177</td>\n",
       "      <td>2177.586768</td>\n",
       "      <td>17505.192460</td>\n",
       "      <td>2</td>\n",
       "      <td>4</td>\n",
       "      <td>4</td>\n",
       "      <td>4</td>\n",
       "      <td>3</td>\n",
       "      <td>4</td>\n",
       "      <td>3</td>\n",
       "      <td>3</td>\n",
       "    </tr>\n",
       "    <tr>\n",
       "      <th>3</th>\n",
       "      <td>4</td>\n",
       "      <td>4</td>\n",
       "      <td>A879973</td>\n",
       "      <td>1dec528d-eb34-4079-adce-0d7a40e82205</td>\n",
       "      <td>cd17d7b6d152cb6f23957346d11c3f07</td>\n",
       "      <td>New Richland</td>\n",
       "      <td>MN</td>\n",
       "      <td>Waseca</td>\n",
       "      <td>56072</td>\n",
       "      <td>43.89744</td>\n",
       "      <td>-93.51479</td>\n",
       "      <td>2162</td>\n",
       "      <td>Suburban</td>\n",
       "      <td>America/Chicago</td>\n",
       "      <td>Early years teacher</td>\n",
       "      <td>0.0</td>\n",
       "      <td>78.0</td>\n",
       "      <td>GED or Alternative Credential</td>\n",
       "      <td>Retired</td>\n",
       "      <td>39741.49</td>\n",
       "      <td>Married</td>\n",
       "      <td>Male</td>\n",
       "      <td>No</td>\n",
       "      <td>17.420079</td>\n",
       "      <td>4</td>\n",
       "      <td>1</td>\n",
       "      <td>0</td>\n",
       "      <td>No</td>\n",
       "      <td>Elective Admission</td>\n",
       "      <td>No</td>\n",
       "      <td>Yes</td>\n",
       "      <td>Medium</td>\n",
       "      <td>0.0</td>\n",
       "      <td>Yes</td>\n",
       "      <td>No</td>\n",
       "      <td>No</td>\n",
       "      <td>No</td>\n",
       "      <td>NaN</td>\n",
       "      <td>No</td>\n",
       "      <td>Yes</td>\n",
       "      <td>Yes</td>\n",
       "      <td>Blood Work</td>\n",
       "      <td>1.714879</td>\n",
       "      <td>2465.118965</td>\n",
       "      <td>12993.437350</td>\n",
       "      <td>3</td>\n",
       "      <td>5</td>\n",
       "      <td>5</td>\n",
       "      <td>3</td>\n",
       "      <td>4</td>\n",
       "      <td>5</td>\n",
       "      <td>5</td>\n",
       "      <td>5</td>\n",
       "    </tr>\n",
       "    <tr>\n",
       "      <th>4</th>\n",
       "      <td>5</td>\n",
       "      <td>5</td>\n",
       "      <td>C544523</td>\n",
       "      <td>5885f56b-d6da-43a3-8760-83583af94266</td>\n",
       "      <td>d2f0425877b10ed6bb381f3e2579424a</td>\n",
       "      <td>West Point</td>\n",
       "      <td>VA</td>\n",
       "      <td>King William</td>\n",
       "      <td>23181</td>\n",
       "      <td>37.59894</td>\n",
       "      <td>-76.88958</td>\n",
       "      <td>5287</td>\n",
       "      <td>Rural</td>\n",
       "      <td>America/New_York</td>\n",
       "      <td>Health promotion specialist</td>\n",
       "      <td>NaN</td>\n",
       "      <td>22.0</td>\n",
       "      <td>Regular High School Diploma</td>\n",
       "      <td>Full Time</td>\n",
       "      <td>1209.56</td>\n",
       "      <td>Widowed</td>\n",
       "      <td>Female</td>\n",
       "      <td>No</td>\n",
       "      <td>16.870524</td>\n",
       "      <td>5</td>\n",
       "      <td>0</td>\n",
       "      <td>2</td>\n",
       "      <td>Yes</td>\n",
       "      <td>Elective Admission</td>\n",
       "      <td>No</td>\n",
       "      <td>No</td>\n",
       "      <td>Low</td>\n",
       "      <td>0.0</td>\n",
       "      <td>No</td>\n",
       "      <td>No</td>\n",
       "      <td>Yes</td>\n",
       "      <td>No</td>\n",
       "      <td>0.0</td>\n",
       "      <td>Yes</td>\n",
       "      <td>No</td>\n",
       "      <td>No</td>\n",
       "      <td>CT Scan</td>\n",
       "      <td>1.254807</td>\n",
       "      <td>1885.655137</td>\n",
       "      <td>3716.525786</td>\n",
       "      <td>2</td>\n",
       "      <td>1</td>\n",
       "      <td>3</td>\n",
       "      <td>3</td>\n",
       "      <td>5</td>\n",
       "      <td>3</td>\n",
       "      <td>4</td>\n",
       "      <td>3</td>\n",
       "    </tr>\n",
       "  </tbody>\n",
       "</table>\n",
       "</div>"
      ],
      "text/plain": [
       "   Unnamed: 0  CaseOrder Customer_id                           Interaction  \\\n",
       "0           1          1     C412403  8cd49b13-f45a-4b47-a2bd-173ffa932c2f   \n",
       "1           2          2     Z919181  d2450b70-0337-4406-bdbb-bc1037f1734c   \n",
       "2           3          3     F995323  a2057123-abf5-4a2c-abad-8ffe33512562   \n",
       "3           4          4     A879973  1dec528d-eb34-4079-adce-0d7a40e82205   \n",
       "4           5          5     C544523  5885f56b-d6da-43a3-8760-83583af94266   \n",
       "\n",
       "                                UID          City State        County    Zip  \\\n",
       "0  3a83ddb66e2ae73798bdf1d705dc0932           Eva    AL        Morgan  35621   \n",
       "1  176354c5eef714957d486009feabf195      Marianna    FL       Jackson  32446   \n",
       "2  e19a0fa00aeda885b8a436757e889bc9   Sioux Falls    SD     Minnehaha  57110   \n",
       "3  cd17d7b6d152cb6f23957346d11c3f07  New Richland    MN        Waseca  56072   \n",
       "4  d2f0425877b10ed6bb381f3e2579424a    West Point    VA  King William  23181   \n",
       "\n",
       "        Lat       Lng  Population      Area          Timezone  \\\n",
       "0  34.34960 -86.72508        2951  Suburban   America/Chicago   \n",
       "1  30.84513 -85.22907       11303     Urban   America/Chicago   \n",
       "2  43.54321 -96.63772       17125  Suburban   America/Chicago   \n",
       "3  43.89744 -93.51479        2162  Suburban   America/Chicago   \n",
       "4  37.59894 -76.88958        5287     Rural  America/New_York   \n",
       "\n",
       "                                Job  Children   Age  \\\n",
       "0  Psychologist, sport and exercise       1.0  53.0   \n",
       "1      Community development worker       3.0  51.0   \n",
       "2           Chief Executive Officer       3.0  53.0   \n",
       "3               Early years teacher       0.0  78.0   \n",
       "4       Health promotion specialist       NaN  22.0   \n",
       "\n",
       "                                  Education Employment    Income   Marital  \\\n",
       "0            Some College, Less than 1 Year  Full Time  86575.93  Divorced   \n",
       "1  Some College, 1 or More Years, No Degree  Full Time  46805.99   Married   \n",
       "2  Some College, 1 or More Years, No Degree    Retired  14370.14   Widowed   \n",
       "3             GED or Alternative Credential    Retired  39741.49   Married   \n",
       "4               Regular High School Diploma  Full Time   1209.56   Widowed   \n",
       "\n",
       "   Gender ReAdmis  VitD_levels  Doc_visits  Full_meals_eaten  VitD_supp  \\\n",
       "0    Male      No    17.802330           6                 0          0   \n",
       "1  Female      No    18.994640           4                 2          1   \n",
       "2  Female      No    17.415889           4                 1          0   \n",
       "3    Male      No    17.420079           4                 1          0   \n",
       "4  Female      No    16.870524           5                 0          2   \n",
       "\n",
       "  Soft_drink        Initial_admin HighBlood Stroke Complication_risk  \\\n",
       "0        NaN  Emergency Admission       Yes     No            Medium   \n",
       "1         No  Emergency Admission       Yes     No              High   \n",
       "2         No   Elective Admission       Yes     No            Medium   \n",
       "3         No   Elective Admission        No    Yes            Medium   \n",
       "4        Yes   Elective Admission        No     No               Low   \n",
       "\n",
       "   Overweight Arthritis Diabetes Hyperlipidemia BackPain  Anxiety  \\\n",
       "0         0.0       Yes      Yes             No      Yes      1.0   \n",
       "1         1.0        No       No             No       No      NaN   \n",
       "2         1.0        No      Yes             No       No      NaN   \n",
       "3         0.0       Yes       No             No       No      NaN   \n",
       "4         0.0        No       No            Yes       No      0.0   \n",
       "\n",
       "  Allergic_rhinitis Reflux_esophagitis Asthma     Services  Initial_days  \\\n",
       "0               Yes                 No    Yes   Blood Work     10.585770   \n",
       "1                No                Yes     No  Intravenous     15.129562   \n",
       "2                No                 No     No   Blood Work      4.772177   \n",
       "3                No                Yes    Yes   Blood Work      1.714879   \n",
       "4               Yes                 No     No      CT Scan      1.254807   \n",
       "\n",
       "   TotalCharge  Additional_charges  Item1  Item2  Item3  Item4  Item5  Item6  \\\n",
       "0  3191.048774        17939.403420      3      3      2      2      4      3   \n",
       "1  4214.905346        17612.998120      3      4      3      4      4      4   \n",
       "2  2177.586768        17505.192460      2      4      4      4      3      4   \n",
       "3  2465.118965        12993.437350      3      5      5      3      4      5   \n",
       "4  1885.655137         3716.525786      2      1      3      3      5      3   \n",
       "\n",
       "   Item7  Item8  \n",
       "0      3      4  \n",
       "1      3      3  \n",
       "2      3      3  \n",
       "3      5      5  \n",
       "4      4      3  "
      ]
     },
     "execution_count": 3,
     "metadata": {},
     "output_type": "execute_result"
    }
   ],
   "source": [
    "df.head()"
   ]
  },
  {
   "cell_type": "code",
   "execution_count": 4,
   "id": "7ab199b4-885a-4a56-895f-ee8196072468",
   "metadata": {},
   "outputs": [],
   "source": [
    "df.drop([\"Unnamed: 0\",\"Interaction\",\"UID\",\"CaseOrder\"], axis=1, inplace=True)\n",
    "df[\"ID\"] = pd.Series(range(0,10000))"
   ]
  },
  {
   "cell_type": "code",
   "execution_count": 5,
   "id": "e371ffb8-c2d2-44ba-894d-d18bb08d996f",
   "metadata": {},
   "outputs": [
    {
     "data": {
      "text/plain": [
       "Index(['Customer_id', 'City', 'State', 'County', 'Zip', 'Lat', 'Lng',\n",
       "       'Population', 'Area', 'Timezone', 'Job', 'Children', 'Age', 'Education',\n",
       "       'Employment', 'Income', 'Marital', 'Gender', 'ReAdmis', 'VitD_levels',\n",
       "       'Doc_visits', 'Full_meals_eaten', 'VitD_supp', 'Soft_drink',\n",
       "       'Initial_admin', 'HighBlood', 'Stroke', 'Complication_risk',\n",
       "       'Overweight', 'Arthritis', 'Diabetes', 'Hyperlipidemia', 'BackPain',\n",
       "       'Anxiety', 'Allergic_rhinitis', 'Reflux_esophagitis', 'Asthma',\n",
       "       'Services', 'Initial_days', 'TotalCharge', 'Additional_charges',\n",
       "       'Item1', 'Item2', 'Item3', 'Item4', 'Item5', 'Item6', 'Item7', 'Item8',\n",
       "       'ID'],\n",
       "      dtype='object')"
      ]
     },
     "execution_count": 5,
     "metadata": {},
     "output_type": "execute_result"
    }
   ],
   "source": [
    "df.columns"
   ]
  },
  {
   "cell_type": "code",
   "execution_count": 6,
   "id": "97b93542-6138-48eb-9cd0-c997e4c33e11",
   "metadata": {},
   "outputs": [
    {
     "data": {
      "text/html": [
       "<div>\n",
       "<style scoped>\n",
       "    .dataframe tbody tr th:only-of-type {\n",
       "        vertical-align: middle;\n",
       "    }\n",
       "\n",
       "    .dataframe tbody tr th {\n",
       "        vertical-align: top;\n",
       "    }\n",
       "\n",
       "    .dataframe thead th {\n",
       "        text-align: right;\n",
       "    }\n",
       "</style>\n",
       "<table border=\"1\" class=\"dataframe\">\n",
       "  <thead>\n",
       "    <tr style=\"text-align: right;\">\n",
       "      <th></th>\n",
       "      <th>Anxiety</th>\n",
       "      <th>Overweight</th>\n",
       "    </tr>\n",
       "  </thead>\n",
       "  <tbody>\n",
       "    <tr>\n",
       "      <th>0</th>\n",
       "      <td>Yes</td>\n",
       "      <td>No</td>\n",
       "    </tr>\n",
       "    <tr>\n",
       "      <th>1</th>\n",
       "      <td>NaN</td>\n",
       "      <td>Yes</td>\n",
       "    </tr>\n",
       "    <tr>\n",
       "      <th>2</th>\n",
       "      <td>NaN</td>\n",
       "      <td>Yes</td>\n",
       "    </tr>\n",
       "    <tr>\n",
       "      <th>3</th>\n",
       "      <td>NaN</td>\n",
       "      <td>No</td>\n",
       "    </tr>\n",
       "    <tr>\n",
       "      <th>4</th>\n",
       "      <td>No</td>\n",
       "      <td>No</td>\n",
       "    </tr>\n",
       "    <tr>\n",
       "      <th>...</th>\n",
       "      <td>...</td>\n",
       "      <td>...</td>\n",
       "    </tr>\n",
       "    <tr>\n",
       "      <th>9995</th>\n",
       "      <td>Yes</td>\n",
       "      <td>NaN</td>\n",
       "    </tr>\n",
       "    <tr>\n",
       "      <th>9996</th>\n",
       "      <td>No</td>\n",
       "      <td>Yes</td>\n",
       "    </tr>\n",
       "    <tr>\n",
       "      <th>9997</th>\n",
       "      <td>Yes</td>\n",
       "      <td>Yes</td>\n",
       "    </tr>\n",
       "    <tr>\n",
       "      <th>9998</th>\n",
       "      <td>No</td>\n",
       "      <td>Yes</td>\n",
       "    </tr>\n",
       "    <tr>\n",
       "      <th>9999</th>\n",
       "      <td>No</td>\n",
       "      <td>Yes</td>\n",
       "    </tr>\n",
       "  </tbody>\n",
       "</table>\n",
       "<p>10000 rows × 2 columns</p>\n",
       "</div>"
      ],
      "text/plain": [
       "     Anxiety Overweight\n",
       "0        Yes         No\n",
       "1        NaN        Yes\n",
       "2        NaN        Yes\n",
       "3        NaN         No\n",
       "4         No         No\n",
       "...      ...        ...\n",
       "9995     Yes        NaN\n",
       "9996      No        Yes\n",
       "9997     Yes        Yes\n",
       "9998      No        Yes\n",
       "9999      No        Yes\n",
       "\n",
       "[10000 rows x 2 columns]"
      ]
     },
     "execution_count": 6,
     "metadata": {},
     "output_type": "execute_result"
    }
   ],
   "source": [
    "def digitalBool_to_string(s):\n",
    "    if s == 1.0 or s == \"Yes\":\n",
    "        return \"Yes\"\n",
    "    elif s == 0.0 or s == \"No\":\n",
    "        return \"No\"\n",
    "    else:\n",
    "        return np.nan\n",
    "\n",
    "df[\"Anxiety\"] = df[\"Anxiety\"].apply(lambda s: digitalBool_to_string(s))\n",
    "df[\"Overweight\"] = df[\"Overweight\"].apply(lambda s: digitalBool_to_string(s))\n",
    "df.loc[:,[\"Anxiety\", \"Overweight\"]]"
   ]
  },
  {
   "cell_type": "markdown",
   "id": "03689a34-d04a-4b43-bb60-872e1e439095",
   "metadata": {},
   "source": [
    "# Check for Dupes"
   ]
  },
  {
   "cell_type": "code",
   "execution_count": 7,
   "id": "ad6e4404-6f51-49be-8aee-e54f7ede4fc2",
   "metadata": {},
   "outputs": [
    {
     "data": {
      "text/plain": [
       "False    10000\n",
       "dtype: int64"
      ]
     },
     "execution_count": 7,
     "metadata": {},
     "output_type": "execute_result"
    }
   ],
   "source": [
    "df.duplicated().value_counts()"
   ]
  },
  {
   "cell_type": "markdown",
   "id": "4f241b86-b096-430d-8cd6-e9e728523cbe",
   "metadata": {},
   "source": [
    "# Consistency in Categorical Names\n"
   ]
  },
  {
   "cell_type": "code",
   "execution_count": 9,
   "id": "e31631fd-dbf7-4deb-97d1-caccbaa02af4",
   "metadata": {},
   "outputs": [
    {
     "data": {
      "text/plain": [
       "Regular High School Diploma                 2444\n",
       "Bachelor's Degree                           1724\n",
       "Some College, 1 or More Years, No Degree    1484\n",
       "9th Grade to 12th Grade, No Diploma          832\n",
       "Associate's Degree                           797\n",
       "Master's Degree                              701\n",
       "Some College, Less than 1 Year               642\n",
       "Nursery School to 8th Grade                  552\n",
       "GED or Alternative Credential                389\n",
       "Professional School Degree                   208\n",
       "No Schooling Completed                       133\n",
       "Doctorate Degree                              94\n",
       "Name: Education, dtype: int64"
      ]
     },
     "execution_count": 9,
     "metadata": {},
     "output_type": "execute_result"
    }
   ],
   "source": [
    "df[\"Education\"].value_counts()"
   ]
  },
  {
   "cell_type": "code",
   "execution_count": 11,
   "id": "70e15592-ae8a-49fe-9fcd-2611331807ea",
   "metadata": {},
   "outputs": [
    {
     "data": {
      "text/plain": [
       "Rural       3369\n",
       "Suburban    3328\n",
       "Urban       3303\n",
       "Name: Area, dtype: int64"
      ]
     },
     "execution_count": 11,
     "metadata": {},
     "output_type": "execute_result"
    }
   ],
   "source": [
    "df[\"Area\"].value_counts()"
   ]
  },
  {
   "cell_type": "code",
   "execution_count": 12,
   "id": "8e19eea4-e608-495d-88b6-7cd0350f9d72",
   "metadata": {},
   "outputs": [
    {
     "data": {
      "text/plain": [
       "Outdoor activities/education manager     29\n",
       "Exhibition designer                      27\n",
       "Theatre director                         27\n",
       "Scientist, audiological                  26\n",
       "Toxicologist                             25\n",
       "                                         ..\n",
       "Government social research officer        6\n",
       "Phytotherapist                            6\n",
       "Engineer, control and instrumentation     6\n",
       "Public relations account executive        6\n",
       "Licensed conveyancer                      6\n",
       "Name: Job, Length: 639, dtype: int64"
      ]
     },
     "execution_count": 12,
     "metadata": {},
     "output_type": "execute_result"
    }
   ],
   "source": [
    "df[\"Job\"].value_counts()"
   ]
  },
  {
   "cell_type": "code",
   "execution_count": 14,
   "id": "e0355773-b25f-426a-aa10-7e7e9ffdfa17",
   "metadata": {},
   "outputs": [
    {
     "data": {
      "text/plain": [
       "639"
      ]
     },
     "execution_count": 14,
     "metadata": {},
     "output_type": "execute_result"
    }
   ],
   "source": [
    "len(df[\"Job\"].unique())"
   ]
  },
  {
   "cell_type": "code",
   "execution_count": 15,
   "id": "8fd508eb-43da-4a09-ab79-ab57249b5eae",
   "metadata": {},
   "outputs": [
    {
     "data": {
      "text/plain": [
       "array(['Full Time', 'Retired', 'Unemployed', 'Student', 'Part Time'],\n",
       "      dtype=object)"
      ]
     },
     "execution_count": 15,
     "metadata": {},
     "output_type": "execute_result"
    }
   ],
   "source": [
    "df[\"Employment\"].unique()"
   ]
  },
  {
   "cell_type": "code",
   "execution_count": 16,
   "id": "3bde6c84-c825-4120-b728-5cb8e1b181a5",
   "metadata": {},
   "outputs": [
    {
     "data": {
      "text/plain": [
       "array(['Divorced', 'Married', 'Widowed', 'Never Married', 'Separated'],\n",
       "      dtype=object)"
      ]
     },
     "execution_count": 16,
     "metadata": {},
     "output_type": "execute_result"
    }
   ],
   "source": [
    "df[\"Marital\"].unique()"
   ]
  },
  {
   "cell_type": "code",
   "execution_count": 17,
   "id": "18cacc2f-13f7-4238-9921-2229eb774574",
   "metadata": {},
   "outputs": [
    {
     "data": {
      "text/plain": [
       "array(['Medium', 'High', 'Low'], dtype=object)"
      ]
     },
     "execution_count": 17,
     "metadata": {},
     "output_type": "execute_result"
    }
   ],
   "source": [
    "df[\"Complication_risk\"].unique()"
   ]
  },
  {
   "cell_type": "code",
   "execution_count": 18,
   "id": "a6384272-fc0b-44b9-b168-251b32ef5156",
   "metadata": {},
   "outputs": [
    {
     "data": {
      "text/plain": [
       "array(['Blood Work', 'Intravenous', 'CT Scan', 'MRI'], dtype=object)"
      ]
     },
     "execution_count": 18,
     "metadata": {},
     "output_type": "execute_result"
    }
   ],
   "source": [
    "df[\"Services\"].unique()"
   ]
  },
  {
   "cell_type": "markdown",
   "id": "27272012-c211-46ac-b56f-caea14de263b",
   "metadata": {},
   "source": [
    "# Missing Values"
   ]
  },
  {
   "cell_type": "code",
   "execution_count": 19,
   "id": "efe72156-59ce-4601-bb87-43c2d39f2dfb",
   "metadata": {},
   "outputs": [
    {
     "data": {
      "text/plain": [
       "Children        2588\n",
       "Age             2414\n",
       "Income          2464\n",
       "Soft_drink      2467\n",
       "Overweight       982\n",
       "Anxiety          984\n",
       "Initial_days    1056\n",
       "dtype: int64"
      ]
     },
     "execution_count": 19,
     "metadata": {},
     "output_type": "execute_result"
    }
   ],
   "source": [
    "count_of_null_by_column = df.isnull().sum()\n",
    "nonzero = count_of_null_by_column > 0\n",
    "count_of_null_by_column[nonzero]"
   ]
  },
  {
   "cell_type": "code",
   "execution_count": 20,
   "id": "97f650dd-1cb9-45d7-9c91-2126151a1dd9",
   "metadata": {},
   "outputs": [
    {
     "data": {
      "text/plain": [
       "Children        25.88\n",
       "Age             24.14\n",
       "Income          24.64\n",
       "Soft_drink      24.67\n",
       "Overweight       9.82\n",
       "Anxiety          9.84\n",
       "Initial_days    10.56\n",
       "dtype: float64"
      ]
     },
     "execution_count": 20,
     "metadata": {},
     "output_type": "execute_result"
    }
   ],
   "source": [
    "percentage_of_null_by_column = (df.isnull().sum() / 10000) * 100\n",
    "nonzero = percentage_of_null_by_column > 0\n",
    "\n",
    "percentage_of_null_by_column[nonzero]"
   ]
  },
  {
   "cell_type": "markdown",
   "id": "1cacf5e2-c37b-45f1-b826-5fda75b91825",
   "metadata": {},
   "source": [
    "# Mitigation of missing variables\n",
    "Our data set is missing a large amount of data. So, we are required to employ mitigation tactics so that future anylasis is not impacted. The way we will achieve this is:\n",
    "\n",
    "- The \"Overweight\",\"Anxiety\", \"Soft_drink\" columns all contain boolean values of either yes or no. for these columns we will add a third option which we will name \"Unknown\". The reason for this choice is due to the the large percentage of missing data. Imputing the most common of the boolean values could greatly skew measures of central tendency and imputing yes no values based on known distrabutions would create unwanted noise in the data. The new unknown category may also be its own valid point of interest in the data as patterns may apear aound the missing information.\n",
    "- \"Children\",\"Age\", \"Income\", \"Initial_days\" For the Income and Inital_Days columns we will impute the median value in the place of missing data. This will allow for statistical anylasis to be preformed. The Children and Age columns will be converted to categorical data because the amount of data missing is not acceptable. This will allow us to avoid discarding the data due to the nearly 25% NaN rate by creating an \"Unknown\" category.\n"
   ]
  },
  {
   "cell_type": "code",
   "execution_count": 21,
   "id": "17e4cb35-df27-48ea-a862-6368f1f2c34d",
   "metadata": {},
   "outputs": [
    {
     "data": {
      "text/html": [
       "<div>\n",
       "<style scoped>\n",
       "    .dataframe tbody tr th:only-of-type {\n",
       "        vertical-align: middle;\n",
       "    }\n",
       "\n",
       "    .dataframe tbody tr th {\n",
       "        vertical-align: top;\n",
       "    }\n",
       "\n",
       "    .dataframe thead th {\n",
       "        text-align: right;\n",
       "    }\n",
       "</style>\n",
       "<table border=\"1\" class=\"dataframe\">\n",
       "  <thead>\n",
       "    <tr style=\"text-align: right;\">\n",
       "      <th></th>\n",
       "      <th>Overweight</th>\n",
       "      <th>Anxiety</th>\n",
       "      <th>Soft_drink</th>\n",
       "    </tr>\n",
       "  </thead>\n",
       "  <tbody>\n",
       "    <tr>\n",
       "      <th>count</th>\n",
       "      <td>9018</td>\n",
       "      <td>9016</td>\n",
       "      <td>7533</td>\n",
       "    </tr>\n",
       "    <tr>\n",
       "      <th>unique</th>\n",
       "      <td>2</td>\n",
       "      <td>2</td>\n",
       "      <td>2</td>\n",
       "    </tr>\n",
       "    <tr>\n",
       "      <th>top</th>\n",
       "      <td>Yes</td>\n",
       "      <td>No</td>\n",
       "      <td>No</td>\n",
       "    </tr>\n",
       "    <tr>\n",
       "      <th>freq</th>\n",
       "      <td>6395</td>\n",
       "      <td>6110</td>\n",
       "      <td>5589</td>\n",
       "    </tr>\n",
       "  </tbody>\n",
       "</table>\n",
       "</div>"
      ],
      "text/plain": [
       "       Overweight Anxiety Soft_drink\n",
       "count        9018    9016       7533\n",
       "unique          2       2          2\n",
       "top           Yes      No         No\n",
       "freq         6395    6110       5589"
      ]
     },
     "execution_count": 21,
     "metadata": {},
     "output_type": "execute_result"
    }
   ],
   "source": [
    "df.loc[:,[\"Overweight\",\"Anxiety\", \"Soft_drink\"]].describe()"
   ]
  },
  {
   "cell_type": "code",
   "execution_count": 22,
   "id": "8f3cd6a4-c145-4633-813a-76ead2602601",
   "metadata": {},
   "outputs": [],
   "source": [
    "df[\"Overweight\"].fillna(\"Unknown\", inplace=True)\n",
    "df[\"Anxiety\"].fillna(\"Unknown\", inplace=True)\n",
    "df[\"Soft_drink\"].fillna(\"Unknown\", inplace=True)"
   ]
  },
  {
   "cell_type": "code",
   "execution_count": 23,
   "id": "d70ede69-c2ae-468a-a21f-ec2353ba93d0",
   "metadata": {},
   "outputs": [
    {
     "data": {
      "text/plain": [
       "Children        25.88\n",
       "Age             24.14\n",
       "Income          24.64\n",
       "Initial_days    10.56\n",
       "dtype: float64"
      ]
     },
     "execution_count": 23,
     "metadata": {},
     "output_type": "execute_result"
    }
   ],
   "source": [
    "percentage_of_null_by_column = (df.isnull().sum() / 10000) * 100\n",
    "nonzero = percentage_of_null_by_column > 0\n",
    "\n",
    "percentage_of_null_by_column[nonzero]"
   ]
  },
  {
   "cell_type": "markdown",
   "id": "b87011d1-529d-4865-9adb-5a0091fc504a",
   "metadata": {},
   "source": [
    "Mitigation of missing numerical values\n"
   ]
  },
  {
   "cell_type": "code",
   "execution_count": 24,
   "id": "978db6e9-2e82-4020-be2c-9d3a18bb309e",
   "metadata": {},
   "outputs": [
    {
     "data": {
      "text/html": [
       "<div>\n",
       "<style scoped>\n",
       "    .dataframe tbody tr th:only-of-type {\n",
       "        vertical-align: middle;\n",
       "    }\n",
       "\n",
       "    .dataframe tbody tr th {\n",
       "        vertical-align: top;\n",
       "    }\n",
       "\n",
       "    .dataframe thead th {\n",
       "        text-align: right;\n",
       "    }\n",
       "</style>\n",
       "<table border=\"1\" class=\"dataframe\">\n",
       "  <thead>\n",
       "    <tr style=\"text-align: right;\">\n",
       "      <th></th>\n",
       "      <th>Children</th>\n",
       "      <th>Age</th>\n",
       "      <th>Income</th>\n",
       "      <th>Initial_days</th>\n",
       "    </tr>\n",
       "  </thead>\n",
       "  <tbody>\n",
       "    <tr>\n",
       "      <th>count</th>\n",
       "      <td>7412.000000</td>\n",
       "      <td>7586.000000</td>\n",
       "      <td>7536.000000</td>\n",
       "      <td>8944.000000</td>\n",
       "    </tr>\n",
       "    <tr>\n",
       "      <th>mean</th>\n",
       "      <td>2.098219</td>\n",
       "      <td>53.295676</td>\n",
       "      <td>40484.438268</td>\n",
       "      <td>34.432082</td>\n",
       "    </tr>\n",
       "    <tr>\n",
       "      <th>std</th>\n",
       "      <td>2.155427</td>\n",
       "      <td>20.659182</td>\n",
       "      <td>28664.861050</td>\n",
       "      <td>26.287050</td>\n",
       "    </tr>\n",
       "    <tr>\n",
       "      <th>min</th>\n",
       "      <td>0.000000</td>\n",
       "      <td>18.000000</td>\n",
       "      <td>154.080000</td>\n",
       "      <td>1.001981</td>\n",
       "    </tr>\n",
       "    <tr>\n",
       "      <th>25%</th>\n",
       "      <td>0.000000</td>\n",
       "      <td>35.000000</td>\n",
       "      <td>19450.792500</td>\n",
       "      <td>7.911709</td>\n",
       "    </tr>\n",
       "    <tr>\n",
       "      <th>50%</th>\n",
       "      <td>1.000000</td>\n",
       "      <td>53.000000</td>\n",
       "      <td>33942.280000</td>\n",
       "      <td>34.446941</td>\n",
       "    </tr>\n",
       "    <tr>\n",
       "      <th>75%</th>\n",
       "      <td>3.000000</td>\n",
       "      <td>71.000000</td>\n",
       "      <td>54075.235000</td>\n",
       "      <td>61.124654</td>\n",
       "    </tr>\n",
       "    <tr>\n",
       "      <th>max</th>\n",
       "      <td>10.000000</td>\n",
       "      <td>89.000000</td>\n",
       "      <td>207249.130000</td>\n",
       "      <td>71.981486</td>\n",
       "    </tr>\n",
       "  </tbody>\n",
       "</table>\n",
       "</div>"
      ],
      "text/plain": [
       "          Children          Age         Income  Initial_days\n",
       "count  7412.000000  7586.000000    7536.000000   8944.000000\n",
       "mean      2.098219    53.295676   40484.438268     34.432082\n",
       "std       2.155427    20.659182   28664.861050     26.287050\n",
       "min       0.000000    18.000000     154.080000      1.001981\n",
       "25%       0.000000    35.000000   19450.792500      7.911709\n",
       "50%       1.000000    53.000000   33942.280000     34.446941\n",
       "75%       3.000000    71.000000   54075.235000     61.124654\n",
       "max      10.000000    89.000000  207249.130000     71.981486"
      ]
     },
     "execution_count": 24,
     "metadata": {},
     "output_type": "execute_result"
    }
   ],
   "source": [
    "df.loc[:,[\"Children\",\"Age\", \"Income\", \"Initial_days\"]].describe()"
   ]
  },
  {
   "cell_type": "code",
   "execution_count": 26,
   "id": "d5663880-4b1a-4ca1-b666-8c969c7511fa",
   "metadata": {},
   "outputs": [],
   "source": [
    "df[\"Income\"].fillna(df[\"Income\"].median(), inplace=True)\n",
    "df[\"Initial_days\"].fillna(df[\"Initial_days\"].median(), inplace=True)"
   ]
  },
  {
   "cell_type": "code",
   "execution_count": 27,
   "id": "7b75cbbf-a7b7-4cd7-b381-925c6e4c2645",
   "metadata": {},
   "outputs": [
    {
     "data": {
      "text/plain": [
       "0           1-2\n",
       "1           3-5\n",
       "2           3-5\n",
       "3          None\n",
       "4       Unknown\n",
       "         ...   \n",
       "9995    Unknown\n",
       "9996        3-5\n",
       "9997        3-5\n",
       "9998        3-5\n",
       "9999         6+\n",
       "Name: Children, Length: 10000, dtype: object"
      ]
     },
     "execution_count": 27,
     "metadata": {},
     "output_type": "execute_result"
    }
   ],
   "source": [
    "def number_of_children_categories(s):\n",
    "    if type(s) == str:\n",
    "        return s\n",
    "        \n",
    "    if s == 0:\n",
    "        return \"None\"\n",
    "    elif s <= 2:\n",
    "        return \"1-2\"\n",
    "    elif s < 6:\n",
    "        return \"3-5\"\n",
    "    elif s >= 6:\n",
    "        return \"6+\"\n",
    "\n",
    "# Convert numerical value of children to a categorical value\n",
    "df[\"Children\"] = df[\"Children\"].apply(lambda s: number_of_children_categories(s))\n",
    "# replacing missing values in data to \"Unknown\"\n",
    "df[\"Children\"].fillna( \"Unknown\", inplace=True)\n",
    "\n",
    "# Display Children column to check for desired outcomes\n",
    "df[\"Children\"]"
   ]
  },
  {
   "cell_type": "code",
   "execution_count": 28,
   "id": "c24a4504-3ce7-4010-bf6a-d0bfd5ea89e7",
   "metadata": {},
   "outputs": [
    {
     "data": {
      "text/plain": [
       "0         50-69\n",
       "1         50-69\n",
       "2         50-69\n",
       "3           70+\n",
       "4          0-29\n",
       "         ...   \n",
       "9995       0-29\n",
       "9996        70+\n",
       "9997    Unknown\n",
       "9998      30-49\n",
       "9999    Unknown\n",
       "Name: Age, Length: 10000, dtype: object"
      ]
     },
     "execution_count": 28,
     "metadata": {},
     "output_type": "execute_result"
    }
   ],
   "source": [
    "# define a function to break down numerical \"Age\" data into categorical data\n",
    "def age_to_categories(s):\n",
    "    if type(s) == str:\n",
    "        return s\n",
    "        \n",
    "    if s < 30:\n",
    "        return \"0-29\"\n",
    "    elif s < 50:\n",
    "        return \"30-49\"\n",
    "    elif s < 70:\n",
    "        return \"50-69\"\n",
    "    elif s >= 70 :\n",
    "        return \"70+\"\n",
    "\n",
    "# Convert numerical value of age to a categorical value\n",
    "df[\"Age\"] = df[\"Age\"].apply(lambda s: age_to_categories(s))\n",
    "# replacing missing values in data to \"Unknown\"\n",
    "df[\"Age\"].fillna( \"Unknown\", inplace=True)\n",
    "\n",
    "# Display Age column to check for desired outcomes\n",
    "df[\"Age\"]"
   ]
  },
  {
   "cell_type": "code",
   "execution_count": 29,
   "id": "b0fbe3e8-7603-44cd-afb7-8108182b9635",
   "metadata": {},
   "outputs": [
    {
     "data": {
      "text/plain": [
       "Series([], dtype: float64)"
      ]
     },
     "execution_count": 29,
     "metadata": {},
     "output_type": "execute_result"
    }
   ],
   "source": [
    "#This code is the same as previously used to show percentages of missing values by rows\n",
    "#used here to show the sucsess of midigation\n",
    "\n",
    "# Calculating the percentage of null values in each row\n",
    "# Filtering out columns that have a count of 0 indicating no null values found\n",
    "# displaying the percentage of rows with null values by column\n",
    "percentage_of_null_by_column = (df.isnull().sum() / 10000) * 100\n",
    "nonzero = percentage_of_null_by_column > 0\n",
    "\n",
    "percentage_of_null_by_column[nonzero]"
   ]
  },
  {
   "cell_type": "markdown",
   "id": "4c3237b6-cecf-43b1-a02f-4688ea474915",
   "metadata": {},
   "source": [
    "### Outliers"
   ]
  },
  {
   "cell_type": "code",
   "execution_count": 31,
   "id": "bcb75832-8584-47ff-92cc-572dd1ab18b0",
   "metadata": {},
   "outputs": [
    {
     "data": {
      "image/png": "[encoded data removed]",
      "text/plain": [
       "<Figure size 1080x720 with 6 Axes>"
      ]
     },
     "metadata": {},
     "output_type": "display_data"
    }
   ],
   "source": [
    "# Create histograms Numerical values to identify outliers\n",
    "# Using pandas and matplot lib\n",
    "plots = df[['Income', \"TotalCharge\",\"VitD_levels\", \"Doc_visits\", \"Full_meals_eaten\", \"Additional_charges\"]].hist(figsize=(15, 10))\n",
    "plt.tight_layout()\n",
    "plt.show()"
   ]
  },
  {
   "cell_type": "code",
   "execution_count": 32,
   "id": "6cc5df5f-bbcc-41b6-b08a-e74b98af4bf1",
   "metadata": {},
   "outputs": [
    {
     "data": {
      "image/png": "[encoded data removed]",
      "text/plain": [
       "<Figure size 1440x360 with 1 Axes>"
      ]
     },
     "metadata": {},
     "output_type": "display_data"
    }
   ],
   "source": [
    "# 1. Standardize all numerical data\n",
    "# 2. Use Box Plots of all numerical data to observe outliers\n",
    "\n",
    "std_income_data = (df[\"Income\"] - df[\"Income\"].mean()) /df[\"Income\"].std()\n",
    "std_total_charge = (df[\"TotalCharge\"] - df[\"TotalCharge\"].mean()) /df[\"TotalCharge\"].std()\n",
    "std_vitd_data = (df[\"VitD_levels\"] - df[\"VitD_levels\"].mean()) /df[\"VitD_levels\"].std()\n",
    "std_docvisit_data = (df[\"Doc_visits\"] - df[\"Doc_visits\"].mean()) /df[\"Doc_visits\"].std()\n",
    "std_Full_meals_eaten = (df[\"Full_meals_eaten\"] - df[\"Full_meals_eaten\"].mean()) /df[\"Full_meals_eaten\"].std()\n",
    "std_Additional_charges = (df[\"Additional_charges\"] - df[\"Additional_charges\"].mean()) /df[\"Additional_charges\"].std()\n",
    "\n",
    "plt.figure(figsize=(20,5)) \n",
    "plt.title(\"Numerical Values Distribution\", size=18)\n",
    "plt.boxplot([\n",
    "    std_income_data,\n",
    "    std_total_charge,\n",
    "    std_vitd_data,\n",
    "    std_docvisit_data,\n",
    "    std_Full_meals_eaten, # Concerned that this is mearly a function of time in hospital\n",
    "    std_Additional_charges\n",
    "]) \n",
    "plt.xticks(\n",
    "    [1,2,3,4,5, 6],\n",
    "    [\n",
    "    \"Income Data\",\n",
    "    \"Total Charge\",\n",
    "    \"VitD Levels\",\n",
    "    \"Number of DR Visits\",\n",
    "    \"Number of Full meals Eaten\",\n",
    "    \"Additional Charges\"\n",
    "    ],\n",
    "    rotation=45,\n",
    "    size=14\n",
    "           \n",
    ")\n",
    "plt.show()"
   ]
  },
  {
   "cell_type": "markdown",
   "id": "8d2d9109-88fc-459b-8357-7635ab465d3f",
   "metadata": {},
   "source": [
    "# Survey Item \n",
    "Survey questions can only contain integer values between 1 and 8. This check will determin that no values exist outside of those constraints"
   ]
  },
  {
   "cell_type": "code",
   "execution_count": 33,
   "id": "5b39a37d-0b7f-4578-8f74-728850e132a2",
   "metadata": {},
   "outputs": [
    {
     "data": {
      "text/html": [
       "<div>\n",
       "<style scoped>\n",
       "    .dataframe tbody tr th:only-of-type {\n",
       "        vertical-align: middle;\n",
       "    }\n",
       "\n",
       "    .dataframe tbody tr th {\n",
       "        vertical-align: top;\n",
       "    }\n",
       "\n",
       "    .dataframe thead th {\n",
       "        text-align: right;\n",
       "    }\n",
       "</style>\n",
       "<table border=\"1\" class=\"dataframe\">\n",
       "  <thead>\n",
       "    <tr style=\"text-align: right;\">\n",
       "      <th></th>\n",
       "      <th>Item1</th>\n",
       "      <th>Item2</th>\n",
       "      <th>Item3</th>\n",
       "      <th>Item4</th>\n",
       "      <th>Item5</th>\n",
       "      <th>Item6</th>\n",
       "      <th>Item7</th>\n",
       "      <th>Item8</th>\n",
       "    </tr>\n",
       "  </thead>\n",
       "  <tbody>\n",
       "    <tr>\n",
       "      <th>count</th>\n",
       "      <td>10000.0</td>\n",
       "      <td>10000.0</td>\n",
       "      <td>10000.0</td>\n",
       "      <td>10000.0</td>\n",
       "      <td>10000.0</td>\n",
       "      <td>10000.0</td>\n",
       "      <td>10000.0</td>\n",
       "      <td>10000.0</td>\n",
       "    </tr>\n",
       "    <tr>\n",
       "      <th>min</th>\n",
       "      <td>1.0</td>\n",
       "      <td>1.0</td>\n",
       "      <td>1.0</td>\n",
       "      <td>1.0</td>\n",
       "      <td>1.0</td>\n",
       "      <td>1.0</td>\n",
       "      <td>1.0</td>\n",
       "      <td>1.0</td>\n",
       "    </tr>\n",
       "    <tr>\n",
       "      <th>max</th>\n",
       "      <td>8.0</td>\n",
       "      <td>7.0</td>\n",
       "      <td>8.0</td>\n",
       "      <td>7.0</td>\n",
       "      <td>7.0</td>\n",
       "      <td>7.0</td>\n",
       "      <td>7.0</td>\n",
       "      <td>7.0</td>\n",
       "    </tr>\n",
       "  </tbody>\n",
       "</table>\n",
       "</div>"
      ],
      "text/plain": [
       "         Item1    Item2    Item3    Item4    Item5    Item6    Item7    Item8\n",
       "count  10000.0  10000.0  10000.0  10000.0  10000.0  10000.0  10000.0  10000.0\n",
       "min        1.0      1.0      1.0      1.0      1.0      1.0      1.0      1.0\n",
       "max        8.0      7.0      8.0      7.0      7.0      7.0      7.0      7.0"
      ]
     },
     "execution_count": 33,
     "metadata": {},
     "output_type": "execute_result"
    }
   ],
   "source": [
    "# This query shows that all values are accounted for in the \"count\" row\n",
    "# the min and max indicates that the max and min value in each row is within the acceptable range\n",
    "\n",
    "df.loc[:, \"Item1\":\"Item8\"].describe().iloc[[0,3,-1]]"
   ]
  },
  {
   "cell_type": "code",
   "execution_count": 34,
   "id": "2eb94e14-ada7-49d1-88c6-207dd4f5e061",
   "metadata": {},
   "outputs": [
    {
     "name": "stdout",
     "output_type": "stream",
     "text": [
      "<class 'pandas.core.frame.DataFrame'>\n",
      "RangeIndex: 10000 entries, 0 to 9999\n",
      "Data columns (total 8 columns):\n",
      " #   Column  Non-Null Count  Dtype\n",
      "---  ------  --------------  -----\n",
      " 0   Item1   10000 non-null  int64\n",
      " 1   Item2   10000 non-null  int64\n",
      " 2   Item3   10000 non-null  int64\n",
      " 3   Item4   10000 non-null  int64\n",
      " 4   Item5   10000 non-null  int64\n",
      " 5   Item6   10000 non-null  int64\n",
      " 6   Item7   10000 non-null  int64\n",
      " 7   Item8   10000 non-null  int64\n",
      "dtypes: int64(8)\n",
      "memory usage: 625.1 KB\n"
     ]
    }
   ],
   "source": [
    "# this query shows the data type and the counts\n",
    "df.loc[:, \"Item1\":\"Item8\"].info()"
   ]
  },
  {
   "cell_type": "code",
   "execution_count": 35,
   "id": "23b8912a-8490-456d-9fef-4ba0b87e21a5",
   "metadata": {},
   "outputs": [],
   "source": [
    "# Extract Clean dataset\n",
    "df.to_csv('D206_cleaned.csv')"
   ]
  },
  {
   "cell_type": "code",
   "execution_count": 36,
   "id": "3f148ce8-f5e3-4d59-8145-482b236ebcf8",
   "metadata": {},
   "outputs": [],
   "source": [
    "from sklearn.preprocessing import scale\n",
    "from sklearn.decomposition import PCA"
   ]
  },
  {
   "cell_type": "code",
   "execution_count": 37,
   "id": "3bdcf1bf-80e5-484e-b771-fdccac8443e3",
   "metadata": {},
   "outputs": [],
   "source": [
    "# separating out numerical data points\n",
    "numerical_cols = [\n",
    "    \"VitD_levels\",\n",
    "    \"VitD_supp\",\n",
    "    \"Full_meals_eaten\",\n",
    "    \"Doc_visits\",\n",
    "    \"Initial_days\",\n",
    "    \"TotalCharge\",\n",
    "    \"Additional_charges\"\n",
    "] + [\"Item1\",\"Item2\",\"Item3\",\"Item4\",\"Item5\",\"Item6\",\"Item7\",\"Item8\"]\n",
    "numerical_df = df.loc[:, numerical_cols]"
   ]
  },
  {
   "cell_type": "code",
   "execution_count": 38,
   "id": "c12d77be-d269-4368-a54d-2679aa690542",
   "metadata": {},
   "outputs": [
    {
     "data": {
      "text/html": [
       "<div>\n",
       "<style scoped>\n",
       "    .dataframe tbody tr th:only-of-type {\n",
       "        vertical-align: middle;\n",
       "    }\n",
       "\n",
       "    .dataframe tbody tr th {\n",
       "        vertical-align: top;\n",
       "    }\n",
       "\n",
       "    .dataframe thead th {\n",
       "        text-align: right;\n",
       "    }\n",
       "</style>\n",
       "<table border=\"1\" class=\"dataframe\">\n",
       "  <thead>\n",
       "    <tr style=\"text-align: right;\">\n",
       "      <th></th>\n",
       "      <th>VitD_levels</th>\n",
       "      <th>VitD_supp</th>\n",
       "      <th>Full_meals_eaten</th>\n",
       "      <th>Doc_visits</th>\n",
       "      <th>Initial_days</th>\n",
       "      <th>TotalCharge</th>\n",
       "      <th>Additional_charges</th>\n",
       "      <th>Item1</th>\n",
       "      <th>Item2</th>\n",
       "      <th>Item3</th>\n",
       "      <th>Item4</th>\n",
       "      <th>Item5</th>\n",
       "      <th>Item6</th>\n",
       "      <th>Item7</th>\n",
       "      <th>Item8</th>\n",
       "    </tr>\n",
       "  </thead>\n",
       "  <tbody>\n",
       "    <tr>\n",
       "      <th>0</th>\n",
       "      <td>-0.239518</td>\n",
       "      <td>-0.634681</td>\n",
       "      <td>-0.993337</td>\n",
       "      <td>0.944599</td>\n",
       "      <td>-0.959278</td>\n",
       "      <td>-0.799539</td>\n",
       "      <td>0.764967</td>\n",
       "      <td>-0.502730</td>\n",
       "      <td>-0.489648</td>\n",
       "      <td>-1.463173</td>\n",
       "      <td>-1.462054</td>\n",
       "      <td>0.488355</td>\n",
       "      <td>-0.506114</td>\n",
       "      <td>-0.483647</td>\n",
       "      <td>0.470397</td>\n",
       "    </tr>\n",
       "    <tr>\n",
       "      <th>1</th>\n",
       "      <td>-0.062177</td>\n",
       "      <td>0.956397</td>\n",
       "      <td>0.990560</td>\n",
       "      <td>-0.967932</td>\n",
       "      <td>-0.776505</td>\n",
       "      <td>-0.496404</td>\n",
       "      <td>0.715078</td>\n",
       "      <td>-0.502730</td>\n",
       "      <td>0.476699</td>\n",
       "      <td>-0.494890</td>\n",
       "      <td>0.467923</td>\n",
       "      <td>0.488355</td>\n",
       "      <td>0.462525</td>\n",
       "      <td>-0.483647</td>\n",
       "      <td>-0.489009</td>\n",
       "    </tr>\n",
       "    <tr>\n",
       "      <th>2</th>\n",
       "      <td>-0.296996</td>\n",
       "      <td>-0.634681</td>\n",
       "      <td>-0.001389</td>\n",
       "      <td>-0.967932</td>\n",
       "      <td>-1.193129</td>\n",
       "      <td>-1.099597</td>\n",
       "      <td>0.698600</td>\n",
       "      <td>-1.471754</td>\n",
       "      <td>0.476699</td>\n",
       "      <td>0.473394</td>\n",
       "      <td>0.467923</td>\n",
       "      <td>-0.482337</td>\n",
       "      <td>0.462525</td>\n",
       "      <td>-0.483647</td>\n",
       "      <td>-0.489009</td>\n",
       "    </tr>\n",
       "  </tbody>\n",
       "</table>\n",
       "</div>"
      ],
      "text/plain": [
       "   VitD_levels  VitD_supp  Full_meals_eaten  Doc_visits  Initial_days  \\\n",
       "0    -0.239518  -0.634681         -0.993337    0.944599     -0.959278   \n",
       "1    -0.062177   0.956397          0.990560   -0.967932     -0.776505   \n",
       "2    -0.296996  -0.634681         -0.001389   -0.967932     -1.193129   \n",
       "\n",
       "   TotalCharge  Additional_charges     Item1     Item2     Item3     Item4  \\\n",
       "0    -0.799539            0.764967 -0.502730 -0.489648 -1.463173 -1.462054   \n",
       "1    -0.496404            0.715078 -0.502730  0.476699 -0.494890  0.467923   \n",
       "2    -1.099597            0.698600 -1.471754  0.476699  0.473394  0.467923   \n",
       "\n",
       "      Item5     Item6     Item7     Item8  \n",
       "0  0.488355 -0.506114 -0.483647  0.470397  \n",
       "1  0.488355  0.462525 -0.483647 -0.489009  \n",
       "2 -0.482337  0.462525 -0.483647 -0.489009  "
      ]
     },
     "execution_count": 38,
     "metadata": {},
     "output_type": "execute_result"
    }
   ],
   "source": [
    "# normalizing the numerical data\n",
    "data_normalized = (numerical_df - numerical_df.mean()) / numerical_df.std()\n",
    "data_normalized.head(3)\n"
   ]
  },
  {
   "cell_type": "code",
   "execution_count": 39,
   "id": "542d0bc9-419c-4a50-b220-a16931194e8d",
   "metadata": {},
   "outputs": [
    {
     "data": {
      "text/plain": [
       "[0.19694557519839165,\n",
       " 0.13003643228100364,\n",
       " 0.10974258895798643,\n",
       " 0.06950751213940129,\n",
       " 0.06771958744174272,\n",
       " 0.06637469413483778,\n",
       " 0.0654069996442077,\n",
       " 0.06448057260443313,\n",
       " 0.051484024721683785,\n",
       " 0.046519309700226705,\n",
       " 0.039244135598235586,\n",
       " 0.03558135589716114,\n",
       " 0.03155617758224263,\n",
       " 0.021824407555206215,\n",
       " 0.0035766265432396406]"
      ]
     },
     "execution_count": 39,
     "metadata": {},
     "output_type": "execute_result"
    }
   ],
   "source": [
    "# define number of componants desired\n",
    "n_components_desired = data_normalized.shape[1]\n",
    "# extansiated the PCA class\n",
    "pca = PCA(n_components=n_components_desired)\n",
    "# fit the data\n",
    "pca.fit(data_normalized)\n",
    "# Labeling the PCA component columns\n",
    "columns=[f\"PC{i+1}\" for i in range(n_components_desired)]\n",
    "# displayed a list of the explained varience ration by component\n",
    "list(pca.explained_variance_ratio_)\n"
   ]
  },
  {
   "cell_type": "code",
   "execution_count": 40,
   "id": "3427e8c9-8274-47cf-b7ac-e62b750a7d43",
   "metadata": {},
   "outputs": [
    {
     "name": "stdout",
     "output_type": "stream",
     "text": [
      "PC1 0.19694557519839165\n",
      "PC2 0.3269820074793953\n",
      "PC3 0.43672459643738176\n",
      "PC4 0.506232108576783\n",
      "PC5 0.5739516960185258\n",
      "PC6 0.6403263901533636\n",
      "PC7 0.7057333897975713\n",
      "PC8 0.7702139624020043\n",
      "PC9 0.8216979871236881\n",
      "PC10 0.8682172968239148\n",
      "PC11 0.9074614324221504\n",
      "PC12 0.9430427883193115\n",
      "PC13 0.9745989659015541\n",
      "PC14 0.9964233734567604\n",
      "PC15 1.0\n"
     ]
    }
   ],
   "source": [
    "for pc, var in zip(columns, np.cumsum(pca.explained_variance_ratio_)):\n",
    "    print(pc, var)"
   ]
  },
  {
   "cell_type": "code",
   "execution_count": 42,
   "id": "0a9fd26c-0c31-4c5b-a92d-2bdea4a1616a",
   "metadata": {},
   "outputs": [
    {
     "data": {
      "image/png": "[encoded data removed]",
      "text/plain": [
       "<Figure size 1080x360 with 1 Axes>"
      ]
     },
     "metadata": {},
     "output_type": "display_data"
    }
   ],
   "source": [
    "# plot explained variance ration\n",
    "plt.figure(figsize=(15,5))\n",
    "plt.plot(pca.explained_variance_ratio_)\n",
    "plt.xlabel('number of components')\n",
    "plt.ylabel('explained variance')\n",
    "plt.show()"
   ]
  },
  {
   "cell_type": "code",
   "execution_count": 41,
   "id": "b58584d9-d00f-4a20-8e01-77c0927a535b",
   "metadata": {},
   "outputs": [
    {
     "data": {
      "image/png": "[encoded data removed]",
      "text/plain": [
       "<Figure size 1080x360 with 1 Axes>"
      ]
     },
     "metadata": {},
     "output_type": "display_data"
    }
   ],
   "source": [
    "# plot explained variance ration as a bar chart\n",
    "plt.figure(figsize=(15,5))\n",
    "plt.bar(columns, pca.explained_variance_ratio_)\n",
    "plt.xlabel('number of components')\n",
    "plt.ylabel('explained variance')\n",
    "plt.show()"
   ]
  },
  {
   "cell_type": "code",
   "execution_count": 42,
   "id": "03dc496f-63c9-4792-9e16-9fd5dac83a82",
   "metadata": {},
   "outputs": [
    {
     "data": {
      "text/plain": [
       "[2.9538882096130417,\n",
       " 1.9503514295666171,\n",
       " 1.6459742204863448,\n",
       " 1.0425084208228037,\n",
       " 1.0156922322449702,\n",
       " 0.9955208499813565,\n",
       " 0.9810068841636407,\n",
       " 0.9671118682075822,\n",
       " 0.7721831447881683,\n",
       " 0.6977198665388444,\n",
       " 0.5886031677701317,\n",
       " 0.5336669664235663,\n",
       " 0.47329532946726194,\n",
       " 0.3273333767167571,\n",
       " 0.053644033208779605]"
      ]
     },
     "execution_count": 42,
     "metadata": {},
     "output_type": "execute_result"
    }
   ],
   "source": [
    "# calculating eigenvalues using numpy array multiplication and list comprehension\n",
    "cov_matrix = np.dot(data_normalized.T, data_normalized) / data_normalized.shape[0]\n",
    "eigenvalues = [np.dot(eigenvector.T, np.dot(cov_matrix, eigenvector)) for eigenvector in pca.components_]\n",
    "eigenvalues"
   ]
  },
  {
   "cell_type": "code",
   "execution_count": 43,
   "id": "a84f2313-9efe-4023-b7db-1fb586aa0d63",
   "metadata": {},
   "outputs": [
    {
     "data": {
      "image/png": "[encoded data removed]",
      "text/plain": [
       "<Figure size 432x288 with 1 Axes>"
      ]
     },
     "metadata": {},
     "output_type": "display_data"
    }
   ],
   "source": [
    "# plotting eigenvalues for better visuilization\n",
    "plt.plot(eigenvalues)\n",
    "plt.xlabel('number of components')\n",
    "plt.ylabel('eigenvalue')\n",
    "plt.show()\n"
   ]
  },
  {
   "cell_type": "code",
   "execution_count": 44,
   "id": "e2efdc91-605c-42e2-b0ec-0c8b60892cb6",
   "metadata": {},
   "outputs": [
    {
     "data": {
      "text/html": [
       "<div>\n",
       "<style scoped>\n",
       "    .dataframe tbody tr th:only-of-type {\n",
       "        vertical-align: middle;\n",
       "    }\n",
       "\n",
       "    .dataframe tbody tr th {\n",
       "        vertical-align: top;\n",
       "    }\n",
       "\n",
       "    .dataframe thead th {\n",
       "        text-align: right;\n",
       "    }\n",
       "</style>\n",
       "<table border=\"1\" class=\"dataframe\">\n",
       "  <thead>\n",
       "    <tr style=\"text-align: right;\">\n",
       "      <th></th>\n",
       "      <th>PC1</th>\n",
       "      <th>PC2</th>\n",
       "      <th>PC3</th>\n",
       "      <th>PC4</th>\n",
       "      <th>PC5</th>\n",
       "    </tr>\n",
       "  </thead>\n",
       "  <tbody>\n",
       "    <tr>\n",
       "      <th>VitD_levels</th>\n",
       "      <td>-0.009560</td>\n",
       "      <td>0.540957</td>\n",
       "      <td>0.052098</td>\n",
       "      <td>0.358130</td>\n",
       "      <td>0.015282</td>\n",
       "    </tr>\n",
       "    <tr>\n",
       "      <th>VitD_supp</th>\n",
       "      <td>-0.005161</td>\n",
       "      <td>0.032064</td>\n",
       "      <td>0.009649</td>\n",
       "      <td>-0.326656</td>\n",
       "      <td>0.622945</td>\n",
       "    </tr>\n",
       "    <tr>\n",
       "      <th>Full_meals_eaten</th>\n",
       "      <td>-0.000499</td>\n",
       "      <td>-0.012428</td>\n",
       "      <td>0.020410</td>\n",
       "      <td>0.629819</td>\n",
       "      <td>-0.155030</td>\n",
       "    </tr>\n",
       "    <tr>\n",
       "      <th>Doc_visits</th>\n",
       "      <td>0.007094</td>\n",
       "      <td>-0.005071</td>\n",
       "      <td>-0.007725</td>\n",
       "      <td>0.097878</td>\n",
       "      <td>0.562067</td>\n",
       "    </tr>\n",
       "    <tr>\n",
       "      <th>Initial_days</th>\n",
       "      <td>-0.020689</td>\n",
       "      <td>0.445543</td>\n",
       "      <td>0.066614</td>\n",
       "      <td>-0.432342</td>\n",
       "      <td>-0.063815</td>\n",
       "    </tr>\n",
       "    <tr>\n",
       "      <th>TotalCharge</th>\n",
       "      <td>-0.018678</td>\n",
       "      <td>0.701623</td>\n",
       "      <td>0.082333</td>\n",
       "      <td>0.007896</td>\n",
       "      <td>-0.019172</td>\n",
       "    </tr>\n",
       "    <tr>\n",
       "      <th>Additional_charges</th>\n",
       "      <td>0.003902</td>\n",
       "      <td>0.030985</td>\n",
       "      <td>-0.010270</td>\n",
       "      <td>0.411699</td>\n",
       "      <td>0.516559</td>\n",
       "    </tr>\n",
       "    <tr>\n",
       "      <th>Item1</th>\n",
       "      <td>0.454809</td>\n",
       "      <td>-0.024702</td>\n",
       "      <td>0.295614</td>\n",
       "      <td>0.006683</td>\n",
       "      <td>0.003015</td>\n",
       "    </tr>\n",
       "    <tr>\n",
       "      <th>Item2</th>\n",
       "      <td>0.428522</td>\n",
       "      <td>-0.025244</td>\n",
       "      <td>0.291948</td>\n",
       "      <td>-0.015642</td>\n",
       "      <td>0.005126</td>\n",
       "    </tr>\n",
       "    <tr>\n",
       "      <th>Item3</th>\n",
       "      <td>0.395335</td>\n",
       "      <td>-0.024448</td>\n",
       "      <td>0.295314</td>\n",
       "      <td>-0.009022</td>\n",
       "      <td>-0.003486</td>\n",
       "    </tr>\n",
       "    <tr>\n",
       "      <th>Item4</th>\n",
       "      <td>0.152038</td>\n",
       "      <td>0.063593</td>\n",
       "      <td>-0.554522</td>\n",
       "      <td>-0.015649</td>\n",
       "      <td>-0.016689</td>\n",
       "    </tr>\n",
       "    <tr>\n",
       "      <th>Item5</th>\n",
       "      <td>-0.189889</td>\n",
       "      <td>-0.071983</td>\n",
       "      <td>0.579575</td>\n",
       "      <td>0.001378</td>\n",
       "      <td>-0.001234</td>\n",
       "    </tr>\n",
       "    <tr>\n",
       "      <th>Item6</th>\n",
       "      <td>0.410248</td>\n",
       "      <td>0.032025</td>\n",
       "      <td>-0.161251</td>\n",
       "      <td>0.011682</td>\n",
       "      <td>-0.007263</td>\n",
       "    </tr>\n",
       "    <tr>\n",
       "      <th>Item7</th>\n",
       "      <td>0.356496</td>\n",
       "      <td>0.037329</td>\n",
       "      <td>-0.170150</td>\n",
       "      <td>0.019096</td>\n",
       "      <td>0.004246</td>\n",
       "    </tr>\n",
       "    <tr>\n",
       "      <th>Item8</th>\n",
       "      <td>0.312573</td>\n",
       "      <td>0.030402</td>\n",
       "      <td>-0.164951</td>\n",
       "      <td>-0.034471</td>\n",
       "      <td>-0.009017</td>\n",
       "    </tr>\n",
       "  </tbody>\n",
       "</table>\n",
       "</div>"
      ],
      "text/plain": [
       "                         PC1       PC2       PC3       PC4       PC5\n",
       "VitD_levels        -0.009560  0.540957  0.052098  0.358130  0.015282\n",
       "VitD_supp          -0.005161  0.032064  0.009649 -0.326656  0.622945\n",
       "Full_meals_eaten   -0.000499 -0.012428  0.020410  0.629819 -0.155030\n",
       "Doc_visits          0.007094 -0.005071 -0.007725  0.097878  0.562067\n",
       "Initial_days       -0.020689  0.445543  0.066614 -0.432342 -0.063815\n",
       "TotalCharge        -0.018678  0.701623  0.082333  0.007896 -0.019172\n",
       "Additional_charges  0.003902  0.030985 -0.010270  0.411699  0.516559\n",
       "Item1               0.454809 -0.024702  0.295614  0.006683  0.003015\n",
       "Item2               0.428522 -0.025244  0.291948 -0.015642  0.005126\n",
       "Item3               0.395335 -0.024448  0.295314 -0.009022 -0.003486\n",
       "Item4               0.152038  0.063593 -0.554522 -0.015649 -0.016689\n",
       "Item5              -0.189889 -0.071983  0.579575  0.001378 -0.001234\n",
       "Item6               0.410248  0.032025 -0.161251  0.011682 -0.007263\n",
       "Item7               0.356496  0.037329 -0.170150  0.019096  0.004246\n",
       "Item8               0.312573  0.030402 -0.164951 -0.034471 -0.009017"
      ]
     },
     "execution_count": 44,
     "metadata": {},
     "output_type": "execute_result"
    }
   ],
   "source": [
    "# calculationg the PCA loading values\n",
    "loadings = pd.DataFrame(pca.components_.T, columns=columns, index=data_normalized.columns)\n",
    "loadings.iloc[:,0:5]\n"
   ]
  },
  {
   "cell_type": "code",
   "execution_count": 45,
   "id": "6efd4072-b789-4ba1-99ed-953855f704e8",
   "metadata": {},
   "outputs": [],
   "source": [
    "# transforming PCA data into a useable data frame\n",
    "pca_data = pd.DataFrame(pca.transform(data_normalized), columns = columns)\n"
   ]
  },
  {
   "cell_type": "code",
   "execution_count": 48,
   "id": "7de75d9c-cb60-4fb0-8974-bd70547be49a",
   "metadata": {},
   "outputs": [
    {
     "data": {
      "text/html": [
       "<div>\n",
       "<style scoped>\n",
       "    .dataframe tbody tr th:only-of-type {\n",
       "        vertical-align: middle;\n",
       "    }\n",
       "\n",
       "    .dataframe tbody tr th {\n",
       "        vertical-align: top;\n",
       "    }\n",
       "\n",
       "    .dataframe thead th {\n",
       "        text-align: right;\n",
       "    }\n",
       "</style>\n",
       "<table border=\"1\" class=\"dataframe\">\n",
       "  <thead>\n",
       "    <tr style=\"text-align: right;\">\n",
       "      <th></th>\n",
       "      <th>PC1</th>\n",
       "      <th>PC2</th>\n",
       "      <th>PC3</th>\n",
       "      <th>PC4</th>\n",
       "      <th>PC5</th>\n",
       "    </tr>\n",
       "  </thead>\n",
       "  <tbody>\n",
       "    <tr>\n",
       "      <th>0</th>\n",
       "      <td>-1.514425</td>\n",
       "      <td>-1.194578</td>\n",
       "      <td>0.272671</td>\n",
       "      <td>0.321425</td>\n",
       "      <td>0.779842</td>\n",
       "    </tr>\n",
       "    <tr>\n",
       "      <th>1</th>\n",
       "      <td>-0.360703</td>\n",
       "      <td>-0.693492</td>\n",
       "      <td>-0.109910</td>\n",
       "      <td>0.820670</td>\n",
       "      <td>0.318910</td>\n",
       "    </tr>\n",
       "    <tr>\n",
       "      <th>2</th>\n",
       "      <td>-0.203531</td>\n",
       "      <td>-1.398417</td>\n",
       "      <td>-0.798086</td>\n",
       "      <td>0.783590</td>\n",
       "      <td>-0.497511</td>\n",
       "    </tr>\n",
       "    <tr>\n",
       "      <th>3</th>\n",
       "      <td>2.396507</td>\n",
       "      <td>-1.455304</td>\n",
       "      <td>0.354197</td>\n",
       "      <td>0.535375</td>\n",
       "      <td>-0.844118</td>\n",
       "    </tr>\n",
       "    <tr>\n",
       "      <th>4</th>\n",
       "      <td>-2.404398</td>\n",
       "      <td>-1.620502</td>\n",
       "      <td>-0.276557</td>\n",
       "      <td>-1.544020</td>\n",
       "      <td>1.110270</td>\n",
       "    </tr>\n",
       "    <tr>\n",
       "      <th>...</th>\n",
       "      <td>...</td>\n",
       "      <td>...</td>\n",
       "      <td>...</td>\n",
       "      <td>...</td>\n",
       "      <td>...</td>\n",
       "    </tr>\n",
       "    <tr>\n",
       "      <th>9995</th>\n",
       "      <td>-2.112054</td>\n",
       "      <td>0.209656</td>\n",
       "      <td>-0.125961</td>\n",
       "      <td>-0.393089</td>\n",
       "      <td>-0.450468</td>\n",
       "    </tr>\n",
       "    <tr>\n",
       "      <th>9996</th>\n",
       "      <td>-0.659645</td>\n",
       "      <td>0.840961</td>\n",
       "      <td>1.505641</td>\n",
       "      <td>-0.069253</td>\n",
       "      <td>0.898850</td>\n",
       "    </tr>\n",
       "    <tr>\n",
       "      <th>9997</th>\n",
       "      <td>-1.893514</td>\n",
       "      <td>-0.007652</td>\n",
       "      <td>0.179145</td>\n",
       "      <td>0.718807</td>\n",
       "      <td>-0.915463</td>\n",
       "    </tr>\n",
       "    <tr>\n",
       "      <th>9998</th>\n",
       "      <td>0.819565</td>\n",
       "      <td>1.173406</td>\n",
       "      <td>0.998508</td>\n",
       "      <td>-0.370188</td>\n",
       "      <td>-0.039006</td>\n",
       "    </tr>\n",
       "    <tr>\n",
       "      <th>9999</th>\n",
       "      <td>0.631606</td>\n",
       "      <td>1.389564</td>\n",
       "      <td>0.154291</td>\n",
       "      <td>-1.501627</td>\n",
       "      <td>0.548836</td>\n",
       "    </tr>\n",
       "  </tbody>\n",
       "</table>\n",
       "<p>10000 rows × 5 columns</p>\n",
       "</div>"
      ],
      "text/plain": [
       "           PC1       PC2       PC3       PC4       PC5\n",
       "0    -1.514425 -1.194578  0.272671  0.321425  0.779842\n",
       "1    -0.360703 -0.693492 -0.109910  0.820670  0.318910\n",
       "2    -0.203531 -1.398417 -0.798086  0.783590 -0.497511\n",
       "3     2.396507 -1.455304  0.354197  0.535375 -0.844118\n",
       "4    -2.404398 -1.620502 -0.276557 -1.544020  1.110270\n",
       "...        ...       ...       ...       ...       ...\n",
       "9995 -2.112054  0.209656 -0.125961 -0.393089 -0.450468\n",
       "9996 -0.659645  0.840961  1.505641 -0.069253  0.898850\n",
       "9997 -1.893514 -0.007652  0.179145  0.718807 -0.915463\n",
       "9998  0.819565  1.173406  0.998508 -0.370188 -0.039006\n",
       "9999  0.631606  1.389564  0.154291 -1.501627  0.548836\n",
       "\n",
       "[10000 rows x 5 columns]"
      ]
     },
     "execution_count": 48,
     "metadata": {},
     "output_type": "execute_result"
    }
   ],
   "source": [
    "# Export pca data with eigenvalue>1 to a new dataframe\n",
    "pca_data_final = pca_data.iloc[:,0:5]\n",
    "pca_data_final"
   ]
  },
  {
   "cell_type": "code",
   "execution_count": null,
   "id": "79b4e9d3-d5f4-451d-b146-d26c1222b52b",
   "metadata": {},
   "outputs": [],
   "source": []
  }
 ],
 "metadata": {
  "kernelspec": {
   "display_name": "Python 3 (ipykernel)",
   "language": "python",
   "name": "python3"
  },
  "language_info": {
   "codemirror_mode": {
    "name": "ipython",
    "version": 3
   },
   "file_extension": ".py",
   "mimetype": "text/x-python",
   "name": "python",
   "nbconvert_exporter": "python",
   "pygments_lexer": "ipython3",
   "version": "3.9.7"
  }
 },
 "nbformat": 4,
 "nbformat_minor": 5
}
